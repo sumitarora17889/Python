{
  "nbformat": 4,
  "nbformat_minor": 0,
  "metadata": {
    "colab": {
      "name": "Linear Regression Homework Solution.ipynb",
      "provenance": [],
      "collapsed_sections": []
    },
    "kernelspec": {
      "display_name": "Python 3",
      "language": "python",
      "name": "python3"
    }
  },
  "cells": [
    {
      "cell_type": "code",
      "metadata": {
        "colab_type": "code",
        "id": "oTXpjSpHWP2r",
        "colab": {}
      },
      "source": [
        "import numpy as np\n",
        "import matplotlib.pyplot as plt \n",
        "import pandas as pd  \n",
        "import seaborn as sns "
      ],
      "execution_count": 0,
      "outputs": []
    },
    {
      "cell_type": "markdown",
      "metadata": {
        "id": "BA2srakz27Yj",
        "colab_type": "text"
      },
      "source": [
        "### Homework Assignment\n",
        "\n",
        "Create 2 models using the Diabetes dataset from Scikit Learn Package.\n",
        "- 1st model must contain all the predictors\n",
        "- 2nd model can contain fewer predictors by analyzining concepts like VIF, Correlation Matrix.\n",
        "\n",
        "**Points to focus**\n",
        "\n",
        "Data Should be splitted into test and train set in both the models.\n",
        "Correlation heatmap must be shown.\n",
        "R-squared, RMSE, intercept and coefficients must be explicitly presented."
      ]
    },
    {
      "cell_type": "code",
      "metadata": {
        "id": "w_w0cTtQ26at",
        "colab_type": "code",
        "colab": {
          "base_uri": "https://localhost:8080/",
          "height": 686
        },
        "outputId": "271d66a8-07cf-4619-f3b7-fb33837b5235"
      },
      "source": [
        "from sklearn import datasets, linear_model\n",
        "from sklearn.metrics import mean_squared_error, r2_score\n",
        "\n",
        "# Load the diabetes dataset\n",
        "diabetes = datasets.load_diabetes()\n",
        "print(diabetes.DESCR)"
      ],
      "execution_count": 1,
      "outputs": [
        {
          "output_type": "stream",
          "text": [
            ".. _diabetes_dataset:\n",
            "\n",
            "Diabetes dataset\n",
            "----------------\n",
            "\n",
            "Ten baseline variables, age, sex, body mass index, average blood\n",
            "pressure, and six blood serum measurements were obtained for each of n =\n",
            "442 diabetes patients, as well as the response of interest, a\n",
            "quantitative measure of disease progression one year after baseline.\n",
            "\n",
            "**Data Set Characteristics:**\n",
            "\n",
            "  :Number of Instances: 442\n",
            "\n",
            "  :Number of Attributes: First 10 columns are numeric predictive values\n",
            "\n",
            "  :Target: Column 11 is a quantitative measure of disease progression one year after baseline\n",
            "\n",
            "  :Attribute Information:\n",
            "      - Age\n",
            "      - Sex\n",
            "      - Body mass index\n",
            "      - Average blood pressure\n",
            "      - S1\n",
            "      - S2\n",
            "      - S3\n",
            "      - S4\n",
            "      - S5\n",
            "      - S6\n",
            "\n",
            "Note: Each of these 10 feature variables have been mean centered and scaled by the standard deviation times `n_samples` (i.e. the sum of squares of each column totals 1).\n",
            "\n",
            "Source URL:\n",
            "https://www4.stat.ncsu.edu/~boos/var.select/diabetes.html\n",
            "\n",
            "For more information see:\n",
            "Bradley Efron, Trevor Hastie, Iain Johnstone and Robert Tibshirani (2004) \"Least Angle Regression,\" Annals of Statistics (with discussion), 407-499.\n",
            "(https://web.stanford.edu/~hastie/Papers/LARS/LeastAngle_2002.pdf)\n"
          ],
          "name": "stdout"
        }
      ]
    },
    {
      "cell_type": "code",
      "metadata": {
        "id": "NeDSjQho747g",
        "colab_type": "code",
        "outputId": "5be16bf2-0708-4db7-d96f-d5ca2dfdc679",
        "colab": {
          "base_uri": "https://localhost:8080/",
          "height": 195
        }
      },
      "source": [
        "data = pd.DataFrame(diabetes.data, columns = diabetes.feature_names)\n",
        "\n",
        "data['level'] = diabetes.target\n",
        "data.head()"
      ],
      "execution_count": 4,
      "outputs": [
        {
          "output_type": "execute_result",
          "data": {
            "text/html": [
              "<div>\n",
              "<style scoped>\n",
              "    .dataframe tbody tr th:only-of-type {\n",
              "        vertical-align: middle;\n",
              "    }\n",
              "\n",
              "    .dataframe tbody tr th {\n",
              "        vertical-align: top;\n",
              "    }\n",
              "\n",
              "    .dataframe thead th {\n",
              "        text-align: right;\n",
              "    }\n",
              "</style>\n",
              "<table border=\"1\" class=\"dataframe\">\n",
              "  <thead>\n",
              "    <tr style=\"text-align: right;\">\n",
              "      <th></th>\n",
              "      <th>age</th>\n",
              "      <th>sex</th>\n",
              "      <th>bmi</th>\n",
              "      <th>bp</th>\n",
              "      <th>s1</th>\n",
              "      <th>s2</th>\n",
              "      <th>s3</th>\n",
              "      <th>s4</th>\n",
              "      <th>s5</th>\n",
              "      <th>s6</th>\n",
              "      <th>level</th>\n",
              "    </tr>\n",
              "  </thead>\n",
              "  <tbody>\n",
              "    <tr>\n",
              "      <th>0</th>\n",
              "      <td>0.038076</td>\n",
              "      <td>0.050680</td>\n",
              "      <td>0.061696</td>\n",
              "      <td>0.021872</td>\n",
              "      <td>-0.044223</td>\n",
              "      <td>-0.034821</td>\n",
              "      <td>-0.043401</td>\n",
              "      <td>-0.002592</td>\n",
              "      <td>0.019908</td>\n",
              "      <td>-0.017646</td>\n",
              "      <td>151.0</td>\n",
              "    </tr>\n",
              "    <tr>\n",
              "      <th>1</th>\n",
              "      <td>-0.001882</td>\n",
              "      <td>-0.044642</td>\n",
              "      <td>-0.051474</td>\n",
              "      <td>-0.026328</td>\n",
              "      <td>-0.008449</td>\n",
              "      <td>-0.019163</td>\n",
              "      <td>0.074412</td>\n",
              "      <td>-0.039493</td>\n",
              "      <td>-0.068330</td>\n",
              "      <td>-0.092204</td>\n",
              "      <td>75.0</td>\n",
              "    </tr>\n",
              "    <tr>\n",
              "      <th>2</th>\n",
              "      <td>0.085299</td>\n",
              "      <td>0.050680</td>\n",
              "      <td>0.044451</td>\n",
              "      <td>-0.005671</td>\n",
              "      <td>-0.045599</td>\n",
              "      <td>-0.034194</td>\n",
              "      <td>-0.032356</td>\n",
              "      <td>-0.002592</td>\n",
              "      <td>0.002864</td>\n",
              "      <td>-0.025930</td>\n",
              "      <td>141.0</td>\n",
              "    </tr>\n",
              "    <tr>\n",
              "      <th>3</th>\n",
              "      <td>-0.089063</td>\n",
              "      <td>-0.044642</td>\n",
              "      <td>-0.011595</td>\n",
              "      <td>-0.036656</td>\n",
              "      <td>0.012191</td>\n",
              "      <td>0.024991</td>\n",
              "      <td>-0.036038</td>\n",
              "      <td>0.034309</td>\n",
              "      <td>0.022692</td>\n",
              "      <td>-0.009362</td>\n",
              "      <td>206.0</td>\n",
              "    </tr>\n",
              "    <tr>\n",
              "      <th>4</th>\n",
              "      <td>0.005383</td>\n",
              "      <td>-0.044642</td>\n",
              "      <td>-0.036385</td>\n",
              "      <td>0.021872</td>\n",
              "      <td>0.003935</td>\n",
              "      <td>0.015596</td>\n",
              "      <td>0.008142</td>\n",
              "      <td>-0.002592</td>\n",
              "      <td>-0.031991</td>\n",
              "      <td>-0.046641</td>\n",
              "      <td>135.0</td>\n",
              "    </tr>\n",
              "  </tbody>\n",
              "</table>\n",
              "</div>"
            ],
            "text/plain": [
              "        age       sex       bmi        bp  ...        s4        s5        s6  level\n",
              "0  0.038076  0.050680  0.061696  0.021872  ... -0.002592  0.019908 -0.017646  151.0\n",
              "1 -0.001882 -0.044642 -0.051474 -0.026328  ... -0.039493 -0.068330 -0.092204   75.0\n",
              "2  0.085299  0.050680  0.044451 -0.005671  ... -0.002592  0.002864 -0.025930  141.0\n",
              "3 -0.089063 -0.044642 -0.011595 -0.036656  ...  0.034309  0.022692 -0.009362  206.0\n",
              "4  0.005383 -0.044642 -0.036385  0.021872  ... -0.002592 -0.031991 -0.046641  135.0\n",
              "\n",
              "[5 rows x 11 columns]"
            ]
          },
          "metadata": {
            "tags": []
          },
          "execution_count": 4
        }
      ]
    },
    {
      "cell_type": "markdown",
      "metadata": {
        "id": "bkxEvpdi_VzR",
        "colab_type": "text"
      },
      "source": [
        "**Look for any missing values in the data.**"
      ]
    },
    {
      "cell_type": "code",
      "metadata": {
        "id": "JJaADpGg_XUU",
        "colab_type": "code",
        "outputId": "abe69604-f210-4ce0-db7f-1fd2766442c8",
        "colab": {
          "base_uri": "https://localhost:8080/",
          "height": 228
        }
      },
      "source": [
        "data.isnull().any()"
      ],
      "execution_count": 6,
      "outputs": [
        {
          "output_type": "execute_result",
          "data": {
            "text/plain": [
              "age      False\n",
              "sex      False\n",
              "bmi      False\n",
              "bp       False\n",
              "s1       False\n",
              "s2       False\n",
              "s3       False\n",
              "s4       False\n",
              "s5       False\n",
              "s6       False\n",
              "level    False\n",
              "dtype: bool"
            ]
          },
          "metadata": {
            "tags": []
          },
          "execution_count": 6
        }
      ]
    },
    {
      "cell_type": "markdown",
      "metadata": {
        "id": "0oAVBb0UAWWW",
        "colab_type": "text"
      },
      "source": [
        "### **Exploratory Data Analysis**"
      ]
    },
    {
      "cell_type": "code",
      "metadata": {
        "id": "YruWA731AfgJ",
        "colab_type": "code",
        "outputId": "77bd9b2b-f205-489d-cbf1-6305c2bba420",
        "colab": {
          "base_uri": "https://localhost:8080/",
          "height": 508
        }
      },
      "source": [
        "sns.set(rc={'figure.figsize':(11,8)})\n",
        "\n",
        "sns.distplot(data['level'], bins=20)\n",
        "plt.show()"
      ],
      "execution_count": 7,
      "outputs": [
        {
          "output_type": "display_data",
          "data": {
            "image/png": "[encoded data removed]",
            "text/plain": [
              "<Figure size 792x576 with 1 Axes>"
            ]
          },
          "metadata": {
            "tags": []
          }
        }
      ]
    },
    {
      "cell_type": "markdown",
      "metadata": {
        "id": "BzMA3crECCX6",
        "colab_type": "text"
      },
      "source": [
        "* Looking for the correlation between the predictors with the help of correlation matrix"
      ]
    },
    {
      "cell_type": "code",
      "metadata": {
        "id": "RAA-hNCXBnzJ",
        "colab_type": "code",
        "outputId": "5d286250-f867-49ab-8c84-21ec9810f141",
        "colab": {
          "base_uri": "https://localhost:8080/",
          "height": 509
        }
      },
      "source": [
        "correlation_matrix = data.corr().round(2)\n",
        "# annot = True to print the values inside the square\n",
        "sns.heatmap(data = correlation_matrix, annot=True, linewidths = 0.5)"
      ],
      "execution_count": 8,
      "outputs": [
        {
          "output_type": "execute_result",
          "data": {
            "text/plain": [
              "<matplotlib.axes._subplots.AxesSubplot at 0x7fcf501335c0>"
            ]
          },
          "metadata": {
            "tags": []
          },
          "execution_count": 8
        },
        {
          "output_type": "display_data",
          "data": {
            "image/png": "[encoded data removed]",
            "text/plain": [
              "<Figure size 792x576 with 2 Axes>"
            ]
          },
          "metadata": {
            "tags": []
          }
        }
      ]
    },
    {
      "cell_type": "markdown",
      "metadata": {
        "id": "Vpjuy0Syel4z",
        "colab_type": "text"
      },
      "source": [
        "* From Correlation matrix, it can be seen that level is related to bmi, bp, s4, s5, s3. "
      ]
    },
    {
      "cell_type": "markdown",
      "metadata": {
        "id": "DursAIvBIfXH",
        "colab_type": "text"
      },
      "source": [
        "**Model 1**: \n",
        "\n",
        "Taking all the predictors"
      ]
    },
    {
      "cell_type": "code",
      "metadata": {
        "id": "gWZqsFm4Iv8-",
        "colab_type": "code",
        "colab": {}
      },
      "source": [
        "# Concatenating the predictors in one dataframe.\n",
        "X = pd.DataFrame(diabetes.data, columns = diabetes.feature_names)\n",
        "Y = data['level']\n",
        "\n",
        "\n",
        "from sklearn.model_selection import train_test_split\n",
        "\n",
        "X_train, X_test, Y_train, Y_test = train_test_split(X, Y, test_size = 0.2, random_state=5)\n",
        "# Splitting the dataset, 80% of data goes into training set and 20% into test test. Set the seed to 5 for reproducibility."
      ],
      "execution_count": 0,
      "outputs": []
    },
    {
      "cell_type": "markdown",
      "metadata": {
        "id": "hCJhUFPAJlYb",
        "colab_type": "text"
      },
      "source": [
        "**Creating Prediction Model**"
      ]
    },
    {
      "cell_type": "code",
      "metadata": {
        "id": "3NkGnS82JpQw",
        "colab_type": "code",
        "outputId": "ed0bdcf7-51d2-46db-9518-faba6434fbd2",
        "colab": {
          "base_uri": "https://localhost:8080/",
          "height": 650
        }
      },
      "source": [
        "import statsmodels.api as sm\n",
        "X_train = sm.add_constant(X_train)\n",
        "model1 = sm.OLS(Y_train, X_train).fit()\n",
        "\n",
        "# Print out the statistics\n",
        "print(model1.summary())"
      ],
      "execution_count": 10,
      "outputs": [
        {
          "output_type": "stream",
          "text": [
            "                            OLS Regression Results                            \n",
            "==============================================================================\n",
            "Dep. Variable:                  level   R-squared:                       0.512\n",
            "Model:                            OLS   Adj. R-squared:                  0.497\n",
            "Method:                 Least Squares   F-statistic:                     35.82\n",
            "Date:                Fri, 18 Oct 2019   Prob (F-statistic):           1.62e-47\n",
            "Time:                        05:40:31   Log-Likelihood:                -1904.6\n",
            "No. Observations:                 353   AIC:                             3831.\n",
            "Df Residuals:                     342   BIC:                             3874.\n",
            "Df Model:                          10                                         \n",
            "Covariance Type:            nonrobust                                         \n",
            "==============================================================================\n",
            "                 coef    std err          t      P>|t|      [0.025      0.975]\n",
            "------------------------------------------------------------------------------\n",
            "const        152.2218      2.898     52.523      0.000     146.521     157.922\n",
            "age            2.7220     67.594      0.040      0.968    -130.230     135.674\n",
            "sex         -255.9459     70.810     -3.615      0.000    -395.224    -116.668\n",
            "bmi          522.8346     73.349      7.128      0.000     378.562     667.107\n",
            "bp           353.1027     72.508      4.870      0.000     210.485     495.721\n",
            "s1          -827.5849    451.710     -1.832      0.068   -1716.065      60.895\n",
            "s2           543.3259    365.479      1.487      0.138    -175.543    1262.195\n",
            "s3           115.9346    232.482      0.499      0.618    -341.340     573.209\n",
            "s4           214.6888    184.001      1.167      0.244    -147.227     576.604\n",
            "s5           694.9419    189.138      3.674      0.000     322.922    1066.961\n",
            "s6            32.7309     74.037      0.442      0.659    -112.894     178.355\n",
            "==============================================================================\n",
            "Omnibus:                        0.637   Durbin-Watson:                   2.027\n",
            "Prob(Omnibus):                  0.727   Jarque-Bera (JB):                0.743\n",
            "Skew:                          -0.038   Prob(JB):                        0.690\n",
            "Kurtosis:                       2.788   Cond. No.                         220.\n",
            "==============================================================================\n",
            "\n",
            "Warnings:\n",
            "[1] Standard Errors assume that the covariance matrix of the errors is correctly specified.\n"
          ],
          "name": "stdout"
        },
        {
          "output_type": "stream",
          "text": [
            "/usr/local/lib/python3.6/dist-packages/numpy/core/fromnumeric.py:2389: FutureWarning: Method .ptp is deprecated and will be removed in a future version. Use numpy.ptp instead.\n",
            "  return ptp(axis=axis, out=out, **kwargs)\n"
          ],
          "name": "stderr"
        }
      ]
    },
    {
      "cell_type": "markdown",
      "metadata": {
        "id": "NHIF_AINKHJF",
        "colab_type": "text"
      },
      "source": [
        "**Predict the y values of training and test set**"
      ]
    },
    {
      "cell_type": "code",
      "metadata": {
        "id": "qWNazmNNKH3D",
        "colab_type": "code",
        "outputId": "0e58620a-6c86-4db5-8db5-9740bb0a3e0f",
        "colab": {
          "base_uri": "https://localhost:8080/",
          "height": 122
        }
      },
      "source": [
        "X_test = sm.add_constant(X_test)\n",
        "Y_train_pred = model1.predict(X_train)\n",
        "Y_test_pred = model1.predict(X_test)\n",
        "\n",
        "# Evaluating Root Mean Square Error\n",
        "rmse_train = np.sqrt(mean_squared_error(Y_train, Y_train_pred))\n",
        "print('The RMSE is: {}'.format(rmse_train))\n",
        "\n",
        "rmse = np.sqrt(mean_squared_error(Y_test, Y_test_pred))\n",
        "print('The RMSE is: {}'.format(rmse))\n",
        "\n",
        "# Evaluating R squared\n",
        "r2_train = r2_score(Y_train, Y_train_pred)\n",
        "print('The r square is:{}'.format(r2_train))\n",
        "\n",
        "r2 = r2_score(Y_test, Y_test_pred)\n",
        "print('The r square is:{}'.format(r2))"
      ],
      "execution_count": 11,
      "outputs": [
        {
          "output_type": "stream",
          "text": [
            "The RMSE is: 53.33849884829917\n",
            "The RMSE is: 54.603896119844435\n",
            "The r square is:0.5115527825885677\n",
            "The r square is:0.5271561853905228\n"
          ],
          "name": "stdout"
        },
        {
          "output_type": "stream",
          "text": [
            "/usr/local/lib/python3.6/dist-packages/numpy/core/fromnumeric.py:2389: FutureWarning: Method .ptp is deprecated and will be removed in a future version. Use numpy.ptp instead.\n",
            "  return ptp(axis=axis, out=out, **kwargs)\n"
          ],
          "name": "stderr"
        }
      ]
    },
    {
      "cell_type": "markdown",
      "metadata": {
        "id": "HNSnw2uyKbkG",
        "colab_type": "text"
      },
      "source": [
        "### **Variance Inflation Factors**"
      ]
    },
    {
      "cell_type": "code",
      "metadata": {
        "id": "2Q31Zj_5KcPQ",
        "colab_type": "code",
        "outputId": "f0b64bc9-ff2e-4301-c2f7-d946029bfd51",
        "colab": {
          "base_uri": "https://localhost:8080/",
          "height": 193
        }
      },
      "source": [
        "from statsmodels.stats.outliers_influence import variance_inflation_factor as vif\n",
        "\n",
        "for i in range(len(X.columns)):\n",
        "  v = vif(np.matrix(X), i)\n",
        "  print('Variation Inflation Factor for {}: {}'.format(X.columns[i], round(v, 2)) )"
      ],
      "execution_count": 12,
      "outputs": [
        {
          "output_type": "stream",
          "text": [
            "Variation Inflation Factor for age: 1.22\n",
            "Variation Inflation Factor for sex: 1.28\n",
            "Variation Inflation Factor for bmi: 1.51\n",
            "Variation Inflation Factor for bp: 1.46\n",
            "Variation Inflation Factor for s1: 59.2\n",
            "Variation Inflation Factor for s2: 39.19\n",
            "Variation Inflation Factor for s3: 15.4\n",
            "Variation Inflation Factor for s4: 8.89\n",
            "Variation Inflation Factor for s5: 10.08\n",
            "Variation Inflation Factor for s6: 1.48\n"
          ],
          "name": "stdout"
        }
      ]
    },
    {
      "cell_type": "markdown",
      "metadata": {
        "id": "wXYMWfx_PlZ1",
        "colab_type": "text"
      },
      "source": [
        "**Model 2** : \n",
        "\n",
        "Taking age, sex, bmi, bp, s4, s6, s3, s5 as our predictors."
      ]
    },
    {
      "cell_type": "code",
      "metadata": {
        "id": "VMnSPPA0PnE1",
        "colab_type": "code",
        "colab": {}
      },
      "source": [
        "# Concatenating the predictors in one dataframe.\n",
        "X = pd.DataFrame(diabetes.data, columns = diabetes.feature_names)\n",
        "X = X.drop(['s2', 's1'], axis = 1)\n",
        "Y = data['level']\n",
        "\n",
        "\n",
        "from sklearn.model_selection import train_test_split\n",
        "\n",
        "X_train, X_test, Y_train, Y_test = train_test_split(X, Y, test_size = 0.2, random_state=5)\n",
        "# Splitting the dataset, 80% of data goes into training set and 20% into test test. Set the seed to 5 for reproducibility."
      ],
      "execution_count": 0,
      "outputs": []
    },
    {
      "cell_type": "markdown",
      "metadata": {
        "id": "ZpB9YHJjPsCg",
        "colab_type": "text"
      },
      "source": [
        "**Creating prediction model** "
      ]
    },
    {
      "cell_type": "code",
      "metadata": {
        "id": "ZTCvdst5PyyF",
        "colab_type": "code",
        "outputId": "7a9cface-f581-4dc9-d7e4-1b896774d401",
        "colab": {
          "base_uri": "https://localhost:8080/",
          "height": 615
        }
      },
      "source": [
        "import statsmodels.api as sm\n",
        "X_train = sm.add_constant(X_train)\n",
        "model1 = sm.OLS(Y_train, X_train).fit()\n",
        "\n",
        "# Print out the statistics\n",
        "print(model1.summary())"
      ],
      "execution_count": 20,
      "outputs": [
        {
          "output_type": "stream",
          "text": [
            "                            OLS Regression Results                            \n",
            "==============================================================================\n",
            "Dep. Variable:                  level   R-squared:                       0.505\n",
            "Model:                            OLS   Adj. R-squared:                  0.494\n",
            "Method:                 Least Squares   F-statistic:                     43.94\n",
            "Date:                Fri, 18 Oct 2019   Prob (F-statistic):           2.94e-48\n",
            "Time:                        05:44:20   Log-Likelihood:                -1906.8\n",
            "No. Observations:                 353   AIC:                             3832.\n",
            "Df Residuals:                     344   BIC:                             3866.\n",
            "Df Model:                           8                                         \n",
            "Covariance Type:            nonrobust                                         \n",
            "==============================================================================\n",
            "                 coef    std err          t      P>|t|      [0.025      0.975]\n",
            "------------------------------------------------------------------------------\n",
            "const        152.2665      2.906     52.390      0.000     146.550     157.983\n",
            "age           -4.6335     67.052     -0.069      0.945    -136.516     127.249\n",
            "sex         -240.5706     70.609     -3.407      0.001    -379.450    -101.691\n",
            "bmi          530.0721     73.077      7.254      0.000     386.338     673.806\n",
            "bp           338.8515     72.396      4.681      0.000     196.456     481.247\n",
            "s3          -316.8644     95.982     -3.301      0.001    -505.650    -128.079\n",
            "s4           -30.2406    112.681     -0.268      0.789    -251.871     191.390\n",
            "s5           417.7343     84.876      4.922      0.000     250.794     584.675\n",
            "s6            37.0055     74.228      0.499      0.618    -108.993     183.004\n",
            "==============================================================================\n",
            "Omnibus:                        1.243   Durbin-Watson:                   2.045\n",
            "Prob(Omnibus):                  0.537   Jarque-Bera (JB):                1.198\n",
            "Skew:                          -0.011   Prob(JB):                        0.549\n",
            "Kurtosis:                       2.715   Cond. No.                         48.5\n",
            "==============================================================================\n",
            "\n",
            "Warnings:\n",
            "[1] Standard Errors assume that the covariance matrix of the errors is correctly specified.\n"
          ],
          "name": "stdout"
        },
        {
          "output_type": "stream",
          "text": [
            "/usr/local/lib/python3.6/dist-packages/numpy/core/fromnumeric.py:2389: FutureWarning: Method .ptp is deprecated and will be removed in a future version. Use numpy.ptp instead.\n",
            "  return ptp(axis=axis, out=out, **kwargs)\n"
          ],
          "name": "stderr"
        }
      ]
    },
    {
      "cell_type": "markdown",
      "metadata": {
        "id": "csUfPg5AP4IB",
        "colab_type": "text"
      },
      "source": [
        "**Predict the y values of training and test set**"
      ]
    },
    {
      "cell_type": "code",
      "metadata": {
        "id": "2mM3v6OhQAkN",
        "colab_type": "code",
        "outputId": "f55e8f40-85b3-4835-d04a-067d86bb78f1",
        "colab": {
          "base_uri": "https://localhost:8080/",
          "height": 122
        }
      },
      "source": [
        "from sklearn.metrics import mean_squared_error, r2_score\n",
        "X_test = sm.add_constant(X_test)\n",
        "Y_train_pred = model1.predict(X_train)\n",
        "Y_test_pred = model1.predict(X_test)\n",
        "\n",
        "# Evaluating Root Mean Square Error\n",
        "rmse_train = np.sqrt(mean_squared_error(Y_train, Y_train_pred))\n",
        "print('The RMSE is: {}'.format(rmse_train))\n",
        "\n",
        "rmse = np.sqrt(mean_squared_error(Y_test, Y_test_pred))\n",
        "print('The RMSE is: {}'.format(rmse))\n",
        "\n",
        "# Evaluating R squared\n",
        "r2_train = r2_score(Y_train, Y_train_pred)\n",
        "print('The r square is:{}'.format(r2_train))\n",
        "\n",
        "r2 = r2_score(Y_test, Y_test_pred)\n",
        "print('The r square is:{}'.format(r2))"
      ],
      "execution_count": 21,
      "outputs": [
        {
          "output_type": "stream",
          "text": [
            "The RMSE is: 53.67167108546865\n",
            "The RMSE is: 55.03815761747875\n",
            "The r square is:0.5054316762967697\n",
            "The r square is:0.5196052816067762\n"
          ],
          "name": "stdout"
        },
        {
          "output_type": "stream",
          "text": [
            "/usr/local/lib/python3.6/dist-packages/numpy/core/fromnumeric.py:2389: FutureWarning: Method .ptp is deprecated and will be removed in a future version. Use numpy.ptp instead.\n",
            "  return ptp(axis=axis, out=out, **kwargs)\n"
          ],
          "name": "stderr"
        }
      ]
    },
    {
      "cell_type": "markdown",
      "metadata": {
        "id": "Ht_ELXV_Qgbf",
        "colab_type": "text"
      },
      "source": [
        "### **Variance Inflation Factors**"
      ]
    },
    {
      "cell_type": "code",
      "metadata": {
        "id": "awJTSqoGQhJj",
        "colab_type": "code",
        "outputId": "97744eff-fa93-4570-8c0b-ebefb5e995af",
        "colab": {
          "base_uri": "https://localhost:8080/",
          "height": 158
        }
      },
      "source": [
        "from statsmodels.stats.outliers_influence import variance_inflation_factor as vif\n",
        "\n",
        "for i in range(len(X.columns)):\n",
        "  v = vif(np.matrix(X), i)\n",
        "  print('Variation Inflation Factor for {}: {}'.format(X.columns[i], round(v, 2)) )"
      ],
      "execution_count": 22,
      "outputs": [
        {
          "output_type": "stream",
          "text": [
            "Variation Inflation Factor for age: 1.21\n",
            "Variation Inflation Factor for sex: 1.27\n",
            "Variation Inflation Factor for bmi: 1.49\n",
            "Variation Inflation Factor for bp: 1.45\n",
            "Variation Inflation Factor for s3: 2.43\n",
            "Variation Inflation Factor for s4: 3.15\n",
            "Variation Inflation Factor for s5: 1.98\n",
            "Variation Inflation Factor for s6: 1.48\n"
          ],
          "name": "stdout"
        }
      ]
    }
  ]
}