{
  "nbformat": 4,
  "nbformat_minor": 0,
  "metadata": {
    "colab": {
      "name": "NMF.ipynb",
      "provenance": [],
      "collapsed_sections": []
    },
    "kernelspec": {
      "name": "python3",
      "display_name": "Python 3"
    }
  },
  "cells": [
    {
      "cell_type": "markdown",
      "metadata": {
        "id": "vEIE2ia5EmmA",
        "colab_type": "text"
      },
      "source": [
        "# Non Negative Matrix Factorization (NMF)\n",
        "\n",
        "NMF is an algorithm in multivariate analysis and linear algebra in which a matrix X is broken into product of 2 smaller matrices W and H, with the property that all the elements in the 3 matrices are non negative numbers. \n",
        "\n",
        "X = WH\n",
        "\n",
        "\n",
        "\n"
      ]
    },
    {
      "cell_type": "code",
      "metadata": {
        "id": "FGd08sh3fQdS",
        "colab_type": "code",
        "colab": {}
      },
      "source": [
        "import numpy as np\n",
        "import pandas as pd\n",
        "from sklearn.decomposition import NMF"
      ],
      "execution_count": 0,
      "outputs": []
    },
    {
      "cell_type": "code",
      "metadata": {
        "id": "0I8WRCLFfr4n",
        "colab_type": "code",
        "outputId": "7b2e732e-62b8-4d44-b78e-3cfead9bc3db",
        "colab": {
          "base_uri": "https://localhost:8080/",
          "height": 119
        }
      },
      "source": [
        "# Creating a matrix of 6x6 from 6 lists\n",
        "\n",
        "I1 = [2, 4, 3, 0, 3, 5]\n",
        "I2 = [0, 5, 2, 4, 5, 4]\n",
        "I3 = [0, 4, 1, 3, 0, 1]\n",
        "I4 = [1, 0, 5, 5, 5, 1]\n",
        "I5 = [0, 2, 4, 3, 1, 4]\n",
        "I6 = [0, 1, 2, 5, 1, 0]\n",
        "X = np.array([I1, I2, I3, I4, I5, I6]).transpose()\n",
        "print(X)"
      ],
      "execution_count": 0,
      "outputs": [
        {
          "output_type": "stream",
          "text": [
            "[[2 0 0 1 0 0]\n",
            " [4 5 4 0 2 1]\n",
            " [3 2 1 5 4 2]\n",
            " [0 4 3 5 3 5]\n",
            " [3 5 0 5 1 1]\n",
            " [5 4 1 1 4 0]]\n"
          ],
          "name": "stdout"
        }
      ]
    },
    {
      "cell_type": "markdown",
      "metadata": {
        "id": "Sk75IYS_OkZY",
        "colab_type": "text"
      },
      "source": [
        "Usually, NMF is considered as breaking a given matrix into 2 matrices with $1^{st}$ matrix  as tall and skinny matrix while $2^{nd}$ matrix as fat and short matrix.\n",
        "\n",
        "![alt text](https://drive.google.com/uc?id=1XUJo974yH7ZgkkYhgCdhNpYdR8MfuQe2)\n"
      ]
    },
    {
      "cell_type": "markdown",
      "metadata": {
        "id": "BH_DGgswS0en",
        "colab_type": "text"
      },
      "source": [
        "### Breaking the 6x6 matrix into 6x3 and 3x6 matrices"
      ]
    },
    {
      "cell_type": "code",
      "metadata": {
        "id": "wmEwhG0ngirJ",
        "colab_type": "code",
        "outputId": "5eb80560-546e-4fa4-c2c2-7f0b12386cac",
        "colab": {
          "base_uri": "https://localhost:8080/",
          "height": 204
        }
      },
      "source": [
        "model = NMF(random_state = 0, init = 'random', n_components = 3, alpha = 0, l1_ratio = 0)\n",
        "# alpha is a constant that multiplies the regdularization terms. Set it to zero to have no regularization.\n",
        "# l1_taio is for regularisation. If it is 0, then l2 is used. If it is 1, then l1 is used. If it is between 0 and 1 then penalty is a combination of l1 and l2. \n",
        "W = model.fit_transform(X)\n",
        "H = model.components_\n",
        "print('The W matrix is:\\n', W.round(3))\n",
        "print('The H matrix is:\\n', H.round(3))"
      ],
      "execution_count": 0,
      "outputs": [
        {
          "output_type": "stream",
          "text": [
            "The W matrix is:\n",
            " [[0.515 0.    0.   ]\n",
            " [0.    0.12  2.866]\n",
            " [1.355 1.044 0.   ]\n",
            " [0.    2.653 0.164]\n",
            " [1.719 0.611 0.   ]\n",
            " [0.901 0.    1.833]]\n",
            "The H matrix is:\n",
            " [[2.098 1.527 0.    2.047 1.096 0.   ]\n",
            " [0.    1.331 1.011 1.937 1.122 1.871]\n",
            " [1.48  1.617 1.121 0.    0.937 0.192]]\n"
          ],
          "name": "stdout"
        }
      ]
    },
    {
      "cell_type": "code",
      "metadata": {
        "id": "Q4dWbm6Mqmtx",
        "colab_type": "code",
        "outputId": "42b101fe-4980-42f3-afe3-4fddc2790d98",
        "colab": {
          "base_uri": "https://localhost:8080/",
          "height": 136
        }
      },
      "source": [
        "Y = np.dot(W,H)\n",
        "print(Y.round(3))\n",
        "print(np.sum(abs(X - Y)).round(3))"
      ],
      "execution_count": 0,
      "outputs": [
        {
          "output_type": "stream",
          "text": [
            "[[1.081 0.786 0.    1.054 0.564 0.   ]\n",
            " [4.24  4.794 3.333 0.232 2.821 0.775]\n",
            " [2.843 3.457 1.055 4.795 2.655 1.953]\n",
            " [0.242 3.796 2.866 5.139 3.13  4.996]\n",
            " [3.607 3.438 0.618 4.703 2.569 1.144]\n",
            " [4.603 4.34  2.055 1.845 2.706 0.352]]\n",
            "17.916\n"
          ],
          "name": "stdout"
        }
      ]
    },
    {
      "cell_type": "markdown",
      "metadata": {
        "id": "k0Is_0KiS_Vg",
        "colab_type": "text"
      },
      "source": [
        "### Breaking the 6x6 matrix into 6x4 and 4x6 matrices."
      ]
    },
    {
      "cell_type": "code",
      "metadata": {
        "id": "U5inO1AYTE-S",
        "colab_type": "code",
        "outputId": "3c780c80-08e8-4d23-fc78-8608629d9279",
        "colab": {
          "base_uri": "https://localhost:8080/",
          "height": 221
        }
      },
      "source": [
        "model = NMF(random_state = 0, init = 'random', n_components = 4, alpha = 0, l1_ratio = 0)\n",
        "W1 = model.fit_transform(X)\n",
        "H1 = model.components_\n",
        "print('The W matrix is:\\n', W1.round(3))\n",
        "print('The H matrix is:\\n', H1.round(3))"
      ],
      "execution_count": 0,
      "outputs": [
        {
          "output_type": "stream",
          "text": [
            "The W matrix is:\n",
            " [[0.345 0.    0.459 0.   ]\n",
            " [0.    0.    1.455 2.158]\n",
            " [0.836 1.7   1.078 0.   ]\n",
            " [0.    2.687 0.    1.27 ]\n",
            " [2.421 0.535 0.109 0.   ]\n",
            " [0.776 0.    2.085 0.819]]\n",
            "The H matrix is:\n",
            " [[1.124 1.981 0.    1.67  0.112 0.   ]\n",
            " [0.    0.306 0.372 1.931 1.146 1.513]\n",
            " [2.023 0.033 0.    0.    1.678 0.   ]\n",
            " [0.318 2.403 1.728 0.    0.    0.482]]\n"
          ],
          "name": "stdout"
        }
      ]
    },
    {
      "cell_type": "code",
      "metadata": {
        "id": "JDvVKiasTRNu",
        "colab_type": "code",
        "outputId": "9b115a35-f06e-4930-8076-9b6d057f0b07",
        "colab": {
          "base_uri": "https://localhost:8080/",
          "height": 136
        }
      },
      "source": [
        "Y1 = np.dot(W1,H1)\n",
        "print(Y1.round(3))\n",
        "print(np.sum(abs(X - Y1)).round(3))"
      ],
      "execution_count": 0,
      "outputs": [
        {
          "output_type": "stream",
          "text": [
            "[[1.317 0.699 0.    0.576 0.809 0.   ]\n",
            " [3.63  5.236 3.729 0.    2.442 1.04 ]\n",
            " [3.12  2.211 0.632 4.678 3.851 2.571]\n",
            " [0.403 3.874 3.193 5.188 3.08  4.677]\n",
            " [2.944 4.963 0.199 5.077 1.069 0.809]\n",
            " [5.35  3.575 1.415 1.295 3.586 0.395]]\n",
            "9.954\n"
          ],
          "name": "stdout"
        }
      ]
    },
    {
      "cell_type": "markdown",
      "metadata": {
        "id": "Fv6lKK2WTYjA",
        "colab_type": "text"
      },
      "source": [
        "### Breaking the 6x6 matrix into 6x5 and 5x6 matrices."
      ]
    },
    {
      "cell_type": "code",
      "metadata": {
        "id": "KkwUa9-WTepL",
        "colab_type": "code",
        "outputId": "17ec6e88-f0e9-4184-96ce-e937cb253496",
        "colab": {
          "base_uri": "https://localhost:8080/",
          "height": 238
        }
      },
      "source": [
        "model = NMF(random_state = 0, init = 'random', n_components = 5, alpha = 0, l1_ratio = 0)\n",
        "W2 = model.fit_transform(X)\n",
        "H2 = model.components_\n",
        "print('The W matrix is:\\n', W2.round(3))\n",
        "print('The H matrix is:\\n', H2.round(3))"
      ],
      "execution_count": 0,
      "outputs": [
        {
          "output_type": "stream",
          "text": [
            "The W matrix is:\n",
            " [[0.    0.    0.012 0.    0.718]\n",
            " [0.    0.    1.407 2.471 0.215]\n",
            " [0.756 1.96  1.023 0.    0.332]\n",
            " [0.    2.794 0.    2.25  0.   ]\n",
            " [2.333 0.735 0.    0.    1.105]\n",
            " [1.329 0.    2.322 0.    0.   ]]\n",
            "The H matrix is:\n",
            " [[0.    2.143 0.    0.871 0.126 0.   ]\n",
            " [0.    0.    0.108 1.85  1.094 1.26 ]\n",
            " [2.172 0.47  0.516 0.    1.605 0.   ]\n",
            " [0.08  1.766 1.267 0.    0.    0.519]\n",
            " [2.721 0.    0.013 1.443 0.    0.   ]]\n"
          ],
          "name": "stdout"
        }
      ]
    },
    {
      "cell_type": "code",
      "metadata": {
        "id": "aLWb8EGoTpM4",
        "colab_type": "code",
        "outputId": "560cf10b-0194-424e-f239-d343bd38d421",
        "colab": {
          "base_uri": "https://localhost:8080/",
          "height": 136
        }
      },
      "source": [
        "Y2 = np.dot(W2,H2)\n",
        "print(Y2.round(3))\n",
        "print(np.sum(abs(X - Y2)).round(3))"
      ],
      "execution_count": 0,
      "outputs": [
        {
          "output_type": "stream",
          "text": [
            "[[1.981 0.006 0.015 1.037 0.019 0.   ]\n",
            " [3.837 5.025 3.859 0.31  2.259 1.283]\n",
            " [3.126 2.102 0.744 4.765 3.882 2.47 ]\n",
            " [0.179 3.973 3.154 5.169 3.057 4.689]\n",
            " [3.006 5.    0.094 4.987 1.098 0.926]\n",
            " [5.044 3.94  1.198 1.158 3.895 0.   ]]\n",
            "4.329\n"
          ],
          "name": "stdout"
        }
      ]
    }
  ]
}