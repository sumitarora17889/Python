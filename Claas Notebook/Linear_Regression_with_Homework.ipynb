{
  "nbformat": 4,
  "nbformat_minor": 0,
  "metadata": {
    "colab": {
      "name": "Linear Regression with Homework.ipynb",
      "provenance": [],
      "collapsed_sections": []
    },
    "kernelspec": {
      "display_name": "Python 3",
      "language": "python",
      "name": "python3"
    }
  },
  "cells": [
    {
      "cell_type": "markdown",
      "metadata": {
        "id": "V15bWbdr2ilT",
        "colab_type": "text"
      },
      "source": [
        "# Linear Regression\n",
        "In this notebook, we are going to cover the concept of linear regression in 3 ways. The first 2 methods are case of simple Linear Regression and 3rd case is for multiple Linear Regression.\n",
        "\n",
        "- Evaluation of parameters using the formula's of Cov(X, Y) and Var(X)\n",
        "- Use of matrix for evaluating the parameters.\n",
        "- Multiple Linear Regression is solved with Statsmodels package and Stochastic Gradient Descent.\n"
      ]
    },
    {
      "cell_type": "code",
      "metadata": {
        "id": "wD6fx_XR2hiF",
        "colab_type": "code",
        "colab": {}
      },
      "source": [
        "import numpy as np\n",
        "import matplotlib.pyplot as plt \n",
        "import pandas as pd  \n",
        "import seaborn as sns "
      ],
      "execution_count": 0,
      "outputs": []
    },
    {
      "cell_type": "code",
      "metadata": {
        "scrolled": true,
        "id": "Nb87Qrui2hiV",
        "colab_type": "code",
        "colab": {}
      },
      "source": [
        "# Creating a dummy dataset\n",
        "x=np.arange(30)\n",
        "y = [39343,46205,37731,43525,39891,56642,60150,54445,64445,57189,63218,55794,56957,57081,61111,67938,66029,83088,81363,93940,91738,98273,101302,113812,109431,105582,116969,112635,122391,121872]\n"
      ],
      "execution_count": 0,
      "outputs": []
    },
    {
      "cell_type": "code",
      "metadata": {
        "id": "yl2qrC7J2hia",
        "colab_type": "code",
        "outputId": "fa773557-e1f2-432b-d73f-2b99384cc424",
        "colab": {
          "base_uri": "https://localhost:8080/",
          "height": 110
        }
      },
      "source": [
        "## Getting correlation of the data\n",
        "data=pd.DataFrame()\n",
        "data['x']=x\n",
        "data['y']=y\n",
        "data.corr()"
      ],
      "execution_count": 0,
      "outputs": [
        {
          "output_type": "execute_result",
          "data": {
            "text/html": [
              "<div>\n",
              "<style scoped>\n",
              "    .dataframe tbody tr th:only-of-type {\n",
              "        vertical-align: middle;\n",
              "    }\n",
              "\n",
              "    .dataframe tbody tr th {\n",
              "        vertical-align: top;\n",
              "    }\n",
              "\n",
              "    .dataframe thead th {\n",
              "        text-align: right;\n",
              "    }\n",
              "</style>\n",
              "<table border=\"1\" class=\"dataframe\">\n",
              "  <thead>\n",
              "    <tr style=\"text-align: right;\">\n",
              "      <th></th>\n",
              "      <th>x</th>\n",
              "      <th>y</th>\n",
              "    </tr>\n",
              "  </thead>\n",
              "  <tbody>\n",
              "    <tr>\n",
              "      <th>x</th>\n",
              "      <td>1.000000</td>\n",
              "      <td>0.960826</td>\n",
              "    </tr>\n",
              "    <tr>\n",
              "      <th>y</th>\n",
              "      <td>0.960826</td>\n",
              "      <td>1.000000</td>\n",
              "    </tr>\n",
              "  </tbody>\n",
              "</table>\n",
              "</div>"
            ],
            "text/plain": [
              "          x         y\n",
              "x  1.000000  0.960826\n",
              "y  0.960826  1.000000"
            ]
          },
          "metadata": {
            "tags": []
          },
          "execution_count": 3
        }
      ]
    },
    {
      "cell_type": "markdown",
      "metadata": {
        "id": "QG0Il36XbFlg",
        "colab_type": "text"
      },
      "source": [
        "## 1) Linear Regression - Code from scratch\n",
        "Evaluation of parameters using the formula's of Cov(X, Y) and Var(X)."
      ]
    },
    {
      "cell_type": "code",
      "metadata": {
        "id": "_JVP90kzs9bL",
        "colab_type": "code",
        "outputId": "89ca5a58-14be-496e-a23d-7aa4b1ecfd95",
        "colab": {
          "base_uri": "https://localhost:8080/",
          "height": 316
        }
      },
      "source": [
        "# Evaluating the parameters beta0 and beta1\n",
        "beta1 = np.sum((x - np.mean(x))*(y - np.mean(y)))/np.sum((x - np.mean(x))**2)\n",
        "beta0 = np.mean(y) - beta1*np.mean(x)\n",
        "print(beta0, beta1)\n",
        "y_pred = beta0 + beta1*x\n",
        "\n",
        "plt.scatter(x, y, color = 'red')\n",
        "plt.plot(x, y_pred, color = 'blue')\n",
        "plt.title('Actual vs. Predicted')"
      ],
      "execution_count": 0,
      "outputs": [
        {
          "output_type": "stream",
          "text": [
            "32617.85161290323 2992.0791991101223\n"
          ],
          "name": "stdout"
        },
        {
          "output_type": "execute_result",
          "data": {
            "text/plain": [
              "Text(0.5, 1.0, 'Actual vs. Predicted')"
            ]
          },
          "metadata": {
            "tags": []
          },
          "execution_count": 4
        },
        {
          "output_type": "display_data",
          "data": {
            "image/png": "[encoded data removed]",
            "text/plain": [
              "<Figure size 432x288 with 1 Axes>"
            ]
          },
          "metadata": {
            "tags": []
          }
        }
      ]
    },
    {
      "cell_type": "markdown",
      "metadata": {
        "id": "__AJz6sPWopp",
        "colab_type": "text"
      },
      "source": [
        "## 2) Alternative Approach by solving the matrix\n",
        "### Do not edit this cell as it contains equations typed in LaTex by hand.\n",
        "\n",
        "$\\beta_1 = \\sum_{i=1}^{n} \\frac{(x_i-\\bar{x})(y_i-\\bar{y})}{(x_i-\\bar{x})^{2}}$ and $\\beta_0 = \\bar{y}-\\beta_1\\bar{x}$\n",
        "\n",
        "Solving formula of $\\beta_1$\n",
        "\n",
        "### $\\beta_1 = \\sum_{i=1}^{n} \\frac{x_iy_i-x_i\\bar{y} - y_i\\bar{x}+\\bar{x}\\bar{y}}{(x_i-\\bar{x})^{2}}$\n",
        "\n",
        "$\\beta_1\\sum_{i=1}^{n}(x_i^2 +\\bar{x}^{2} - 2x_i\\bar{x}) = \\sum_{i=1}^{n}x_iy_i - \\bar{y}\\sum_{i=1}^{n}x_i - \\bar{x}\\sum_{i=1}^{n}y_i + n\\bar{x}\\bar{y}$\n",
        "\n",
        "$\\beta_1(\\sum_{i=1}^{n}x_i^2 - n\\bar{x}^2) = \\sum_{i=1}^{n}x_iy_i - \\bar{y}n\\bar{x} - \\bar{x}n\\bar{y} + n\\bar{x}\\bar{y}$\n",
        "\n",
        "$\\beta_1(\\sum_{i=1}^{n}x_i^2 - n\\bar{x}^2) = \\sum_{i=1}^{n}x_iy_i - n\\bar{x}\\bar{y}$\n",
        "\n",
        "### $\\beta_1 = \\frac{\\sum_{i=1}^{n}x_iy_i - n\\bar{x}\\bar{y}}{(\\sum_{i=1}^{n}x_i^2 - n\\bar{x}^2)}$\n",
        "\n",
        "Similarly, \n",
        "\n",
        "### $\\beta_0 = \\frac{\\bar{y}\\sum_{i = 1}^{n}x_i^2 - \\bar{x}\\sum_{i=1}^{n}x_iy_i}{\\sum_{i=1}^{n}x_i^2 - n\\bar{x}^2}$\n",
        "\n",
        "The above results can also be obtained by solving the linear equations\n",
        "\n",
        "$(\\sum_{i = 1}^{n}x_i)\\beta_1 + n\\beta_0 = \\sum_{i = 1}^{n}y_i$\n",
        "\n",
        "$(\\sum_{i = 1}^{n}x_i^2)\\beta_1 + (\\sum_{i = 1}^{n}x_i)\\beta_0 = \\sum_{i = 1}^{n}x_iy_i$\n",
        "\n"
      ]
    },
    {
      "cell_type": "code",
      "metadata": {
        "id": "E6QexaM_2hiQ",
        "colab_type": "code",
        "colab": {}
      },
      "source": [
        "def get_sum(l, p):\n",
        "    result = 0\n",
        "    for i in l:\n",
        "        result += i**p\n",
        "    return result\n",
        "\n",
        "def get_mul(l1, l2):\n",
        "    result2 = 0\n",
        "    for i in range(len(l1)):\n",
        "        result2 += (l1[i]*l2[i])\n",
        "    return result2\n",
        "\n",
        "def solve_eqn(sum_x, sum_x2, sum_y, sum_xy):\n",
        "    n = len(x)\n",
        "    p = np.array([[n, sum_x], [sum_x, sum_x2]])\n",
        "    q = np.array([sum_y, sum_xy])\n",
        "    res = np.linalg.solve(p, q)\n",
        "    return res\n",
        "\n",
        "def predict(x, res):\n",
        "    y_pred = []\n",
        "    for i in x:\n",
        "        y_pred.append(res[0] + res[1]*i)\n",
        "    return y_pred"
      ],
      "execution_count": 0,
      "outputs": []
    },
    {
      "cell_type": "code",
      "metadata": {
        "id": "nTM0mtO02hih",
        "colab_type": "code",
        "colab": {}
      },
      "source": [
        "sum_x = get_sum(x, 1)\n",
        "sum_y = get_sum(y, 1)\n",
        "sum_x2 = get_sum(x, 2)\n",
        "sum_xy = get_mul(x, y)\n",
        "result = solve_eqn(sum_x, sum_x2, sum_y, sum_xy)\n",
        "y_pred = predict(x, result)"
      ],
      "execution_count": 0,
      "outputs": []
    },
    {
      "cell_type": "code",
      "metadata": {
        "scrolled": true,
        "id": "GIYmYKsT2hit",
        "colab_type": "code",
        "outputId": "2df238c8-3c29-4faf-81c8-c77ffa626383",
        "colab": {
          "base_uri": "https://localhost:8080/",
          "height": 281
        }
      },
      "source": [
        "df=pd.DataFrame()\n",
        "df['actual']=y\n",
        "df['predicted']=y_pred\n",
        "\n",
        "plt.scatter(x, y, color = 'red')\n",
        "plt.plot(x, y_pred, color = 'blue')\n",
        "plt.title('Actual vs. Predicted')\n",
        "#plt.xlabel('X')\n",
        "#plt.ylabel('Y')\n",
        "plt.show()"
      ],
      "execution_count": 0,
      "outputs": [
        {
          "output_type": "display_data",
          "data": {
            "image/png": "[encoded data removed]",
            "text/plain": [
              "<Figure size 432x288 with 1 Axes>"
            ]
          },
          "metadata": {
            "tags": []
          }
        }
      ]
    },
    {
      "cell_type": "markdown",
      "metadata": {
        "id": "D7j4iy5m65OD",
        "colab_type": "text"
      },
      "source": [
        "## 3) Multiple Linear Regression using Statsmodels package\n"
      ]
    },
    {
      "cell_type": "markdown",
      "metadata": {
        "id": "Koyh306A6tmk",
        "colab_type": "text"
      },
      "source": [
        "**Loading the Boston Housing Dataset**"
      ]
    },
    {
      "cell_type": "code",
      "metadata": {
        "id": "FJtkTRHyGtEC",
        "colab_type": "code",
        "outputId": "e208e008-3ab8-43ae-ccb0-5862c918369d",
        "colab": {
          "base_uri": "https://localhost:8080/",
          "height": 35
        }
      },
      "source": [
        "from sklearn.datasets import load_boston\n",
        "# loading the dataset\n",
        "boston_dataset = load_boston()\n",
        "\n",
        "# Getting the keys of the data to understand the dataset better\n",
        "print(boston_dataset.keys())"
      ],
      "execution_count": 0,
      "outputs": [
        {
          "output_type": "stream",
          "text": [
            "dict_keys(['data', 'target', 'feature_names', 'DESCR', 'filename'])\n"
          ],
          "name": "stdout"
        }
      ]
    },
    {
      "cell_type": "markdown",
      "metadata": {
        "id": "mQue9Eow8TfP",
        "colab_type": "text"
      },
      "source": [
        "**Getting info about the dataset**"
      ]
    },
    {
      "cell_type": "code",
      "metadata": {
        "id": "XTxJ-bN79GMv",
        "colab_type": "code",
        "outputId": "bf6ae81e-b7de-4d61-8a32-1f2b52ba83ce",
        "colab": {
          "base_uri": "https://localhost:8080/",
          "height": 921
        }
      },
      "source": [
        "print(boston_dataset.DESCR)"
      ],
      "execution_count": 0,
      "outputs": [
        {
          "output_type": "stream",
          "text": [
            ".. _boston_dataset:\n",
            "\n",
            "Boston house prices dataset\n",
            "---------------------------\n",
            "\n",
            "**Data Set Characteristics:**  \n",
            "\n",
            "    :Number of Instances: 506 \n",
            "\n",
            "    :Number of Attributes: 13 numeric/categorical predictive. Median Value (attribute 14) is usually the target.\n",
            "\n",
            "    :Attribute Information (in order):\n",
            "        - CRIM     per capita crime rate by town\n",
            "        - ZN       proportion of residential land zoned for lots over 25,000 sq.ft.\n",
            "        - INDUS    proportion of non-retail business acres per town\n",
            "        - CHAS     Charles River dummy variable (= 1 if tract bounds river; 0 otherwise)\n",
            "        - NOX      nitric oxides concentration (parts per 10 million)\n",
            "        - RM       average number of rooms per dwelling\n",
            "        - AGE      proportion of owner-occupied units built prior to 1940\n",
            "        - DIS      weighted distances to five Boston employment centres\n",
            "        - RAD      index of accessibility to radial highways\n",
            "        - TAX      full-value property-tax rate per $10,000\n",
            "        - PTRATIO  pupil-teacher ratio by town\n",
            "        - B        1000(Bk - 0.63)^2 where Bk is the proportion of blacks by town\n",
            "        - LSTAT    % lower status of the population\n",
            "        - MEDV     Median value of owner-occupied homes in $1000's\n",
            "\n",
            "    :Missing Attribute Values: None\n",
            "\n",
            "    :Creator: Harrison, D. and Rubinfeld, D.L.\n",
            "\n",
            "This is a copy of UCI ML housing dataset.\n",
            "https://archive.ics.uci.edu/ml/machine-learning-databases/housing/\n",
            "\n",
            "\n",
            "This dataset was taken from the StatLib library which is maintained at Carnegie Mellon University.\n",
            "\n",
            "The Boston house-price data of Harrison, D. and Rubinfeld, D.L. 'Hedonic\n",
            "prices and the demand for clean air', J. Environ. Economics & Management,\n",
            "vol.5, 81-102, 1978.   Used in Belsley, Kuh & Welsch, 'Regression diagnostics\n",
            "...', Wiley, 1980.   N.B. Various transformations are used in the table on\n",
            "pages 244-261 of the latter.\n",
            "\n",
            "The Boston house-price data has been used in many machine learning papers that address regression\n",
            "problems.   \n",
            "     \n",
            ".. topic:: References\n",
            "\n",
            "   - Belsley, Kuh & Welsch, 'Regression diagnostics: Identifying Influential Data and Sources of Collinearity', Wiley, 1980. 244-261.\n",
            "   - Quinlan,R. (1993). Combining Instance-Based and Model-Based Learning. In Proceedings on the Tenth International Conference of Machine Learning, 236-243, University of Massachusetts, Amherst. Morgan Kaufmann.\n",
            "\n"
          ],
          "name": "stdout"
        }
      ]
    },
    {
      "cell_type": "markdown",
      "metadata": {
        "id": "R2qKmMcR-a5y",
        "colab_type": "text"
      },
      "source": [
        "**There are 506 observations and 13 predictors. MEDV is the target variable and we are adding that to our dataset. We will also take a look at first 5 observations**"
      ]
    },
    {
      "cell_type": "code",
      "metadata": {
        "id": "NeDSjQho747g",
        "colab_type": "code",
        "outputId": "f9018430-ac46-4f1e-a508-5e79326bbdb8",
        "colab": {
          "base_uri": "https://localhost:8080/",
          "height": 222
        }
      },
      "source": [
        "boston = pd.DataFrame(boston_dataset.data, columns=boston_dataset.feature_names)\n",
        "\n",
        "boston['MEDV'] = boston_dataset.target\n",
        "boston.head()"
      ],
      "execution_count": 0,
      "outputs": [
        {
          "output_type": "execute_result",
          "data": {
            "text/html": [
              "<div>\n",
              "<style scoped>\n",
              "    .dataframe tbody tr th:only-of-type {\n",
              "        vertical-align: middle;\n",
              "    }\n",
              "\n",
              "    .dataframe tbody tr th {\n",
              "        vertical-align: top;\n",
              "    }\n",
              "\n",
              "    .dataframe thead th {\n",
              "        text-align: right;\n",
              "    }\n",
              "</style>\n",
              "<table border=\"1\" class=\"dataframe\">\n",
              "  <thead>\n",
              "    <tr style=\"text-align: right;\">\n",
              "      <th></th>\n",
              "      <th>CRIM</th>\n",
              "      <th>ZN</th>\n",
              "      <th>INDUS</th>\n",
              "      <th>CHAS</th>\n",
              "      <th>NOX</th>\n",
              "      <th>RM</th>\n",
              "      <th>AGE</th>\n",
              "      <th>DIS</th>\n",
              "      <th>RAD</th>\n",
              "      <th>TAX</th>\n",
              "      <th>PTRATIO</th>\n",
              "      <th>B</th>\n",
              "      <th>LSTAT</th>\n",
              "      <th>MEDV</th>\n",
              "    </tr>\n",
              "  </thead>\n",
              "  <tbody>\n",
              "    <tr>\n",
              "      <th>0</th>\n",
              "      <td>0.00632</td>\n",
              "      <td>18.0</td>\n",
              "      <td>2.31</td>\n",
              "      <td>0.0</td>\n",
              "      <td>0.538</td>\n",
              "      <td>6.575</td>\n",
              "      <td>65.2</td>\n",
              "      <td>4.0900</td>\n",
              "      <td>1.0</td>\n",
              "      <td>296.0</td>\n",
              "      <td>15.3</td>\n",
              "      <td>396.90</td>\n",
              "      <td>4.98</td>\n",
              "      <td>24.0</td>\n",
              "    </tr>\n",
              "    <tr>\n",
              "      <th>1</th>\n",
              "      <td>0.02731</td>\n",
              "      <td>0.0</td>\n",
              "      <td>7.07</td>\n",
              "      <td>0.0</td>\n",
              "      <td>0.469</td>\n",
              "      <td>6.421</td>\n",
              "      <td>78.9</td>\n",
              "      <td>4.9671</td>\n",
              "      <td>2.0</td>\n",
              "      <td>242.0</td>\n",
              "      <td>17.8</td>\n",
              "      <td>396.90</td>\n",
              "      <td>9.14</td>\n",
              "      <td>21.6</td>\n",
              "    </tr>\n",
              "    <tr>\n",
              "      <th>2</th>\n",
              "      <td>0.02729</td>\n",
              "      <td>0.0</td>\n",
              "      <td>7.07</td>\n",
              "      <td>0.0</td>\n",
              "      <td>0.469</td>\n",
              "      <td>7.185</td>\n",
              "      <td>61.1</td>\n",
              "      <td>4.9671</td>\n",
              "      <td>2.0</td>\n",
              "      <td>242.0</td>\n",
              "      <td>17.8</td>\n",
              "      <td>392.83</td>\n",
              "      <td>4.03</td>\n",
              "      <td>34.7</td>\n",
              "    </tr>\n",
              "    <tr>\n",
              "      <th>3</th>\n",
              "      <td>0.03237</td>\n",
              "      <td>0.0</td>\n",
              "      <td>2.18</td>\n",
              "      <td>0.0</td>\n",
              "      <td>0.458</td>\n",
              "      <td>6.998</td>\n",
              "      <td>45.8</td>\n",
              "      <td>6.0622</td>\n",
              "      <td>3.0</td>\n",
              "      <td>222.0</td>\n",
              "      <td>18.7</td>\n",
              "      <td>394.63</td>\n",
              "      <td>2.94</td>\n",
              "      <td>33.4</td>\n",
              "    </tr>\n",
              "    <tr>\n",
              "      <th>4</th>\n",
              "      <td>0.06905</td>\n",
              "      <td>0.0</td>\n",
              "      <td>2.18</td>\n",
              "      <td>0.0</td>\n",
              "      <td>0.458</td>\n",
              "      <td>7.147</td>\n",
              "      <td>54.2</td>\n",
              "      <td>6.0622</td>\n",
              "      <td>3.0</td>\n",
              "      <td>222.0</td>\n",
              "      <td>18.7</td>\n",
              "      <td>396.90</td>\n",
              "      <td>5.33</td>\n",
              "      <td>36.2</td>\n",
              "    </tr>\n",
              "  </tbody>\n",
              "</table>\n",
              "</div>"
            ],
            "text/plain": [
              "      CRIM    ZN  INDUS  CHAS    NOX  ...    TAX  PTRATIO       B  LSTAT  MEDV\n",
              "0  0.00632  18.0   2.31   0.0  0.538  ...  296.0     15.3  396.90   4.98  24.0\n",
              "1  0.02731   0.0   7.07   0.0  0.469  ...  242.0     17.8  396.90   9.14  21.6\n",
              "2  0.02729   0.0   7.07   0.0  0.469  ...  242.0     17.8  392.83   4.03  34.7\n",
              "3  0.03237   0.0   2.18   0.0  0.458  ...  222.0     18.7  394.63   2.94  33.4\n",
              "4  0.06905   0.0   2.18   0.0  0.458  ...  222.0     18.7  396.90   5.33  36.2\n",
              "\n",
              "[5 rows x 14 columns]"
            ]
          },
          "metadata": {
            "tags": []
          },
          "execution_count": 10
        }
      ]
    },
    {
      "cell_type": "markdown",
      "metadata": {
        "id": "bkxEvpdi_VzR",
        "colab_type": "text"
      },
      "source": [
        "**Look for any missing values in the data.**"
      ]
    },
    {
      "cell_type": "code",
      "metadata": {
        "id": "JJaADpGg_XUU",
        "colab_type": "code",
        "outputId": "6b970fce-db1d-44ac-c498-42f87ba843ae",
        "colab": {
          "base_uri": "https://localhost:8080/",
          "height": 277
        }
      },
      "source": [
        "boston.isnull().any()"
      ],
      "execution_count": 0,
      "outputs": [
        {
          "output_type": "execute_result",
          "data": {
            "text/plain": [
              "CRIM       False\n",
              "ZN         False\n",
              "INDUS      False\n",
              "CHAS       False\n",
              "NOX        False\n",
              "RM         False\n",
              "AGE        False\n",
              "DIS        False\n",
              "RAD        False\n",
              "TAX        False\n",
              "PTRATIO    False\n",
              "B          False\n",
              "LSTAT      False\n",
              "MEDV       False\n",
              "dtype: bool"
            ]
          },
          "metadata": {
            "tags": []
          },
          "execution_count": 11
        }
      ]
    },
    {
      "cell_type": "markdown",
      "metadata": {
        "id": "0oAVBb0UAWWW",
        "colab_type": "text"
      },
      "source": [
        "### **Exploratory Data Analysis**"
      ]
    },
    {
      "cell_type": "code",
      "metadata": {
        "id": "YruWA731AfgJ",
        "colab_type": "code",
        "outputId": "5a23670a-72a4-472c-d145-ecfccebb5709",
        "colab": {
          "base_uri": "https://localhost:8080/",
          "height": 509
        }
      },
      "source": [
        "sns.set(rc={'figure.figsize':(11,8)})\n",
        "\n",
        "sns.distplot(boston['MEDV'], bins=40)\n",
        "plt.show()"
      ],
      "execution_count": 0,
      "outputs": [
        {
          "output_type": "display_data",
          "data": {
            "image/png": "[encoded data removed]",
            "text/plain": [
              "<Figure size 792x576 with 1 Axes>"
            ]
          },
          "metadata": {
            "tags": []
          }
        }
      ]
    },
    {
      "cell_type": "markdown",
      "metadata": {
        "id": "HCi_oQ5EBmsk",
        "colab_type": "text"
      },
      "source": [
        "* The Value of target variable is normally distributed with few outliers."
      ]
    },
    {
      "cell_type": "markdown",
      "metadata": {
        "id": "BzMA3crECCX6",
        "colab_type": "text"
      },
      "source": [
        "* Looking for the correlation between the predictors with the help of correlation matrix"
      ]
    },
    {
      "cell_type": "code",
      "metadata": {
        "id": "RAA-hNCXBnzJ",
        "colab_type": "code",
        "outputId": "88d43443-87ce-4952-f264-c58bc71520a4",
        "colab": {
          "base_uri": "https://localhost:8080/",
          "height": 509
        }
      },
      "source": [
        "correlation_matrix = boston.corr().round(2)\n",
        "# annot = True to print the values inside the square\n",
        "sns.heatmap(data=correlation_matrix, annot=True, linewidths = 0.5)"
      ],
      "execution_count": 0,
      "outputs": [
        {
          "output_type": "execute_result",
          "data": {
            "text/plain": [
              "<matplotlib.axes._subplots.AxesSubplot at 0x7fc8395000f0>"
            ]
          },
          "metadata": {
            "tags": []
          },
          "execution_count": 13
        },
        {
          "output_type": "display_data",
          "data": {
            "image/png": "[encoded data removed]",
            "text/plain": [
              "<Figure size 792x576 with 2 Axes>"
            ]
          },
          "metadata": {
            "tags": []
          }
        }
      ]
    },
    {
      "cell_type": "markdown",
      "metadata": {
        "id": "Vpjuy0Syel4z",
        "colab_type": "text"
      },
      "source": [
        "* From Correlation matrix, it can be seen that MEDV is related to INDUS, NOX, RM, TAX, PTRATIO, LSTAT. \n",
        "\n",
        "* RAD and TAX are highly correlated to each other, so will use only one of them. INDUS is related to TAX, RAD and NOX, LSTAT is related to RM. "
      ]
    },
    {
      "cell_type": "markdown",
      "metadata": {
        "id": "KJ5VN6HrClHa",
        "colab_type": "text"
      },
      "source": [
        "**Model 1** : \n",
        "\n",
        "Based on highest values of MEDV in correlation matrix. \n",
        "\n",
        "From the correlation matrix, it can be easily viewed that MEDV is highly positively related to RM while highly negatively related to LSTAT. They are also negatively correlated to each other. Let's begin prediction of MEDV with these 2 features."
      ]
    },
    {
      "cell_type": "code",
      "metadata": {
        "id": "cxVvyyPSDZiZ",
        "colab_type": "code",
        "colab": {}
      },
      "source": [
        "# Concatenating the 2 predictors in one dataframe.\n",
        "X = boston[['RM', 'LSTAT']]\n",
        "Y = boston['MEDV']\n",
        "\n",
        "\n",
        "from sklearn.model_selection import train_test_split\n",
        "\n",
        "X_train, X_test, Y_train, Y_test = train_test_split(X, Y, test_size = 0.2, random_state=5)\n",
        "# Splitting the dataset, 80% of data goes into training set and 20% into test test. Set the seed to 5 for reproducibility."
      ],
      "execution_count": 0,
      "outputs": []
    },
    {
      "cell_type": "markdown",
      "metadata": {
        "id": "Jckc_jfaHze7",
        "colab_type": "text"
      },
      "source": [
        "Checking the size of all the sets created above."
      ]
    },
    {
      "cell_type": "code",
      "metadata": {
        "id": "o4bTkxJeH-_d",
        "colab_type": "code",
        "outputId": "c1a3b2c4-2cb2-41af-bb18-35cd05921ddb",
        "colab": {
          "base_uri": "https://localhost:8080/",
          "height": 87
        }
      },
      "source": [
        "print(X_train.shape)\n",
        "print(X_test.shape)\n",
        "print(Y_train.shape)\n",
        "print(Y_test.shape)"
      ],
      "execution_count": 0,
      "outputs": [
        {
          "output_type": "stream",
          "text": [
            "(404, 2)\n",
            "(102, 2)\n",
            "(404,)\n",
            "(102,)\n"
          ],
          "name": "stdout"
        }
      ]
    },
    {
      "cell_type": "markdown",
      "metadata": {
        "id": "eBsvljykIXly",
        "colab_type": "text"
      },
      "source": [
        "**Training the model with the help of statsmodels Ordinary Least Squares (OLS)**"
      ]
    },
    {
      "cell_type": "code",
      "metadata": {
        "id": "_9zSUaICDrBY",
        "colab_type": "code",
        "outputId": "60ceeeba-ad08-4234-87f2-37a02d0ca5b0",
        "colab": {
          "base_uri": "https://localhost:8080/",
          "height": 523
        }
      },
      "source": [
        "import statsmodels.api as sm\n",
        "X_train = sm.add_constant(X_train)\n",
        "model = sm.OLS(Y_train, X_train).fit()\n",
        "\n",
        "# Print out the statistics\n",
        "print(model.summary())\n",
        "\n",
        " "
      ],
      "execution_count": 0,
      "outputs": [
        {
          "output_type": "stream",
          "text": [
            "                            OLS Regression Results                            \n",
            "==============================================================================\n",
            "Dep. Variable:                   MEDV   R-squared:                       0.630\n",
            "Model:                            OLS   Adj. R-squared:                  0.628\n",
            "Method:                 Least Squares   F-statistic:                     341.5\n",
            "Date:                Thu, 10 Oct 2019   Prob (F-statistic):           2.55e-87\n",
            "Time:                        08:53:23   Log-Likelihood:                -1271.9\n",
            "No. Observations:                 404   AIC:                             2550.\n",
            "Df Residuals:                     401   BIC:                             2562.\n",
            "Df Model:                           2                                         \n",
            "Covariance Type:            nonrobust                                         \n",
            "==============================================================================\n",
            "                 coef    std err          t      P>|t|      [0.025      0.975]\n",
            "------------------------------------------------------------------------------\n",
            "const          2.7362      3.547      0.771      0.441      -4.236       9.709\n",
            "RM             4.5894      0.500      9.182      0.000       3.607       5.572\n",
            "LSTAT         -0.7172      0.049    -14.576      0.000      -0.814      -0.620\n",
            "==============================================================================\n",
            "Omnibus:                      120.711   Durbin-Watson:                   2.054\n",
            "Prob(Omnibus):                  0.000   Jarque-Bera (JB):              364.099\n",
            "Skew:                           1.381   Prob(JB):                     8.65e-80\n",
            "Kurtosis:                       6.742   Cond. No.                         195.\n",
            "==============================================================================\n",
            "\n",
            "Warnings:\n",
            "[1] Standard Errors assume that the covariance matrix of the errors is correctly specified.\n"
          ],
          "name": "stdout"
        },
        {
          "output_type": "stream",
          "text": [
            "/usr/local/lib/python3.6/dist-packages/numpy/core/fromnumeric.py:2389: FutureWarning: Method .ptp is deprecated and will be removed in a future version. Use numpy.ptp instead.\n",
            "  return ptp(axis=axis, out=out, **kwargs)\n"
          ],
          "name": "stderr"
        }
      ]
    },
    {
      "cell_type": "markdown",
      "metadata": {
        "id": "gf4nN6FKJIx1",
        "colab_type": "text"
      },
      "source": [
        "**Making predictions on the training and test set**"
      ]
    },
    {
      "cell_type": "code",
      "metadata": {
        "id": "mViB2GO3JLlm",
        "colab_type": "code",
        "outputId": "b8fe759c-24a1-4dd8-8f2b-6ab78c7ab405",
        "colab": {
          "base_uri": "https://localhost:8080/",
          "height": 141
        }
      },
      "source": [
        "from sklearn.metrics import mean_squared_error, r2_score\n",
        "X_test = sm.add_constant(X_test)\n",
        "Y_train_pred = model.predict(X_train)\n",
        "Y_test_pred = model.predict(X_test)\n",
        "\n",
        "# Evaluating Root Mean Square Error\n",
        "rmse_train = np.sqrt(mean_squared_error(Y_train, Y_train_pred))\n",
        "print('The RMSE is: {}'.format(rmse_train))\n",
        "\n",
        "rmse = np.sqrt(mean_squared_error(Y_test, Y_test_pred))\n",
        "print('The RMSE is: {}'.format(rmse))\n",
        "\n",
        "# Evaluating R squared\n",
        "r2_train = r2_score(Y_train, Y_train_pred)\n",
        "print('The r square is:{}'.format(r2_train))\n",
        "\n",
        "r2 = r2_score(Y_test, Y_test_pred)\n",
        "print('The r square is:{}'.format(r2))\n"
      ],
      "execution_count": 0,
      "outputs": [
        {
          "output_type": "stream",
          "text": [
            "The RMSE is: 5.6371293350711955\n",
            "The RMSE is: 5.13740078470291\n",
            "The r square is:0.6300745149331701\n",
            "The r square is:0.6628996975186954\n"
          ],
          "name": "stdout"
        },
        {
          "output_type": "stream",
          "text": [
            "/usr/local/lib/python3.6/dist-packages/numpy/core/fromnumeric.py:2389: FutureWarning: Method .ptp is deprecated and will be removed in a future version. Use numpy.ptp instead.\n",
            "  return ptp(axis=axis, out=out, **kwargs)\n"
          ],
          "name": "stderr"
        }
      ]
    },
    {
      "cell_type": "markdown",
      "metadata": {
        "id": "JOdW12mLIKr5",
        "colab_type": "text"
      },
      "source": [
        "## Variance Inflation Factor (VIF)\n",
        "\n",
        "Variation Inflation Factor detects multicollinearity in regression analysis i.e., the predictors are correlated to each other. The VIF estimates how much inflation is induced in the variance of the regression coefficient due to multicollinearity.\n",
        "\n",
        "VIF's are calculated by regressing a predictor against every other predictor in the model. R-squared values are evaluated and then for ith predictor plugged into the formula given by\n",
        "\n",
        "### $ VIF = \\frac {1}{1-R_i^2}$\n",
        "\n",
        "As we can see from the formula that VIF is always greater than 1. The value of VIF tells us the percentage of inflation in the variance for each coefficient. \n",
        "\n",
        "For example, if VIF = 1.9, it means that the variance of a particular coefficient is 90% bigger than the value expected if there is no multicollinearity.\n",
        "\n",
        "Generally, for interpreting Variance Inflation Factor\n",
        "- 1 means that the predictors are not correlated.\n",
        "- From 1 to 10 means that the predictors are moderately correlated. \n",
        "- Greater than 10 means that the predictors are highly correlated."
      ]
    },
    {
      "cell_type": "code",
      "metadata": {
        "id": "gglG07gYIOoI",
        "colab_type": "code",
        "outputId": "aa801bdc-30ad-46a6-ad83-023f8ff8bf98",
        "colab": {
          "base_uri": "https://localhost:8080/",
          "height": 52
        }
      },
      "source": [
        "from statsmodels.stats.outliers_influence import variance_inflation_factor as vif\n",
        "\n",
        "for i in range(len(X.columns)):\n",
        "  v = vif(np.matrix(X), i)\n",
        "  print('Variation Inflation Factor for {}: {}'.format(X.columns[i], round(v, 2)) )"
      ],
      "execution_count": 0,
      "outputs": [
        {
          "output_type": "stream",
          "text": [
            "Variation Inflation Factor for RM: 3.25\n",
            "Variation Inflation Factor for LSTAT: 3.25\n"
          ],
          "name": "stdout"
        }
      ]
    },
    {
      "cell_type": "markdown",
      "metadata": {
        "id": "DursAIvBIfXH",
        "colab_type": "text"
      },
      "source": [
        "**Model 2**: \n",
        "\n",
        "Taking all the predictors"
      ]
    },
    {
      "cell_type": "code",
      "metadata": {
        "id": "gWZqsFm4Iv8-",
        "colab_type": "code",
        "colab": {}
      },
      "source": [
        "# Concatenating the predictors in one dataframe.\n",
        "X = pd.DataFrame(boston_dataset.data, columns=boston_dataset.feature_names)\n",
        "Y = boston['MEDV']\n",
        "\n",
        "\n",
        "from sklearn.model_selection import train_test_split\n",
        "\n",
        "X_train, X_test, Y_train, Y_test = train_test_split(X, Y, test_size = 0.2, random_state=5)\n",
        "# Splitting the dataset, 80% of data goes into training set and 20% into test test. Set the seed to 5 for reproducibility."
      ],
      "execution_count": 0,
      "outputs": []
    },
    {
      "cell_type": "markdown",
      "metadata": {
        "id": "hCJhUFPAJlYb",
        "colab_type": "text"
      },
      "source": [
        "**Creating Prediction Model**"
      ]
    },
    {
      "cell_type": "code",
      "metadata": {
        "id": "3NkGnS82JpQw",
        "colab_type": "code",
        "outputId": "1cdbc21a-9a07-494f-df30-c6dc9fd9ff40",
        "colab": {
          "base_uri": "https://localhost:8080/",
          "height": 748
        }
      },
      "source": [
        "import statsmodels.api as sm\n",
        "X_train = sm.add_constant(X_train)\n",
        "model1 = sm.OLS(Y_train, X_train).fit()\n",
        "\n",
        "# Print out the statistics\n",
        "print(model1.summary())"
      ],
      "execution_count": 0,
      "outputs": [
        {
          "output_type": "stream",
          "text": [
            "                            OLS Regression Results                            \n",
            "==============================================================================\n",
            "Dep. Variable:                   MEDV   R-squared:                       0.738\n",
            "Model:                            OLS   Adj. R-squared:                  0.730\n",
            "Method:                 Least Squares   F-statistic:                     84.65\n",
            "Date:                Thu, 10 Oct 2019   Prob (F-statistic):          8.21e-105\n",
            "Time:                        08:53:24   Log-Likelihood:                -1202.0\n",
            "No. Observations:                 404   AIC:                             2432.\n",
            "Df Residuals:                     390   BIC:                             2488.\n",
            "Df Model:                          13                                         \n",
            "Covariance Type:            nonrobust                                         \n",
            "==============================================================================\n",
            "                 coef    std err          t      P>|t|      [0.025      0.975]\n",
            "------------------------------------------------------------------------------\n",
            "const         37.9125      5.775      6.565      0.000      26.559      49.266\n",
            "CRIM          -0.1308      0.036     -3.603      0.000      -0.202      -0.059\n",
            "ZN             0.0494      0.016      3.131      0.002       0.018       0.080\n",
            "INDUS          0.0011      0.072      0.015      0.988      -0.141       0.143\n",
            "CHAS           2.7054      0.989      2.737      0.006       0.762       4.649\n",
            "NOX          -15.9571      4.517     -3.532      0.000     -24.838      -7.076\n",
            "RM             3.4140      0.470      7.266      0.000       2.490       4.338\n",
            "AGE            0.0011      0.015      0.077      0.939      -0.027       0.030\n",
            "DIS           -1.4931      0.233     -6.404      0.000      -1.951      -1.035\n",
            "RAD            0.3644      0.079      4.628      0.000       0.210       0.519\n",
            "TAX           -0.0132      0.004     -2.950      0.003      -0.022      -0.004\n",
            "PTRATIO       -0.9524      0.149     -6.411      0.000      -1.244      -0.660\n",
            "B              0.0117      0.003      3.795      0.000       0.006       0.018\n",
            "LSTAT         -0.5941      0.058    -10.271      0.000      -0.708      -0.480\n",
            "==============================================================================\n",
            "Omnibus:                      134.272   Durbin-Watson:                   2.057\n",
            "Prob(Omnibus):                  0.000   Jarque-Bera (JB):              542.194\n",
            "Skew:                           1.423   Prob(JB):                    1.84e-118\n",
            "Kurtosis:                       7.911   Cond. No.                     1.51e+04\n",
            "==============================================================================\n",
            "\n",
            "Warnings:\n",
            "[1] Standard Errors assume that the covariance matrix of the errors is correctly specified.\n",
            "[2] The condition number is large, 1.51e+04. This might indicate that there are\n",
            "strong multicollinearity or other numerical problems.\n"
          ],
          "name": "stdout"
        },
        {
          "output_type": "stream",
          "text": [
            "/usr/local/lib/python3.6/dist-packages/numpy/core/fromnumeric.py:2389: FutureWarning: Method .ptp is deprecated and will be removed in a future version. Use numpy.ptp instead.\n",
            "  return ptp(axis=axis, out=out, **kwargs)\n"
          ],
          "name": "stderr"
        }
      ]
    },
    {
      "cell_type": "markdown",
      "metadata": {
        "id": "NHIF_AINKHJF",
        "colab_type": "text"
      },
      "source": [
        "**Predict the y values of training and test set**"
      ]
    },
    {
      "cell_type": "code",
      "metadata": {
        "id": "qWNazmNNKH3D",
        "colab_type": "code",
        "outputId": "051d54bb-30a5-427b-aaee-f8294c7a7970",
        "colab": {
          "base_uri": "https://localhost:8080/",
          "height": 141
        }
      },
      "source": [
        "X_test = sm.add_constant(X_test)\n",
        "Y_train_pred = model1.predict(X_train)\n",
        "Y_test_pred = model1.predict(X_test)\n",
        "\n",
        "# Evaluating Root Mean Square Error\n",
        "rmse_train = np.sqrt(mean_squared_error(Y_train, Y_train_pred))\n",
        "print('The RMSE is: {}'.format(rmse_train))\n",
        "\n",
        "rmse = np.sqrt(mean_squared_error(Y_test, Y_test_pred))\n",
        "print('The RMSE is: {}'.format(rmse))\n",
        "\n",
        "# Evaluating R squared\n",
        "r2_train = r2_score(Y_train, Y_train_pred)\n",
        "print('The r square is:{}'.format(r2_train))\n",
        "\n",
        "r2 = r2_score(Y_test, Y_test_pred)\n",
        "print('The r square is:{}'.format(r2))"
      ],
      "execution_count": 0,
      "outputs": [
        {
          "output_type": "stream",
          "text": [
            "The RMSE is: 4.741000992236517\n",
            "The RMSE is: 4.568292042303224\n",
            "The r square is:0.7383393920590519\n",
            "The r square is:0.7334492147453058\n"
          ],
          "name": "stdout"
        },
        {
          "output_type": "stream",
          "text": [
            "/usr/local/lib/python3.6/dist-packages/numpy/core/fromnumeric.py:2389: FutureWarning: Method .ptp is deprecated and will be removed in a future version. Use numpy.ptp instead.\n",
            "  return ptp(axis=axis, out=out, **kwargs)\n"
          ],
          "name": "stderr"
        }
      ]
    },
    {
      "cell_type": "markdown",
      "metadata": {
        "id": "HNSnw2uyKbkG",
        "colab_type": "text"
      },
      "source": [
        "### **Variance Inflation Factors**"
      ]
    },
    {
      "cell_type": "code",
      "metadata": {
        "id": "2Q31Zj_5KcPQ",
        "colab_type": "code",
        "outputId": "1ce480c0-e48b-4565-a18b-e6265b4962c5",
        "colab": {
          "base_uri": "https://localhost:8080/",
          "height": 243
        }
      },
      "source": [
        "from statsmodels.stats.outliers_influence import variance_inflation_factor as vif\n",
        "\n",
        "for i in range(len(X.columns)):\n",
        "  v = vif(np.matrix(X), i)\n",
        "  print('Variation Inflation Factor for {}: {}'.format(X.columns[i], round(v, 2)) )"
      ],
      "execution_count": 0,
      "outputs": [
        {
          "output_type": "stream",
          "text": [
            "Variation Inflation Factor for CRIM: 2.1\n",
            "Variation Inflation Factor for ZN: 2.84\n",
            "Variation Inflation Factor for INDUS: 14.49\n",
            "Variation Inflation Factor for CHAS: 1.15\n",
            "Variation Inflation Factor for NOX: 73.89\n",
            "Variation Inflation Factor for RM: 77.95\n",
            "Variation Inflation Factor for AGE: 21.39\n",
            "Variation Inflation Factor for DIS: 14.7\n",
            "Variation Inflation Factor for RAD: 15.17\n",
            "Variation Inflation Factor for TAX: 61.23\n",
            "Variation Inflation Factor for PTRATIO: 85.03\n",
            "Variation Inflation Factor for B: 20.1\n",
            "Variation Inflation Factor for LSTAT: 11.1\n"
          ],
          "name": "stdout"
        }
      ]
    },
    {
      "cell_type": "markdown",
      "metadata": {
        "id": "wXYMWfx_PlZ1",
        "colab_type": "text"
      },
      "source": [
        "**Model 3** : \n",
        "\n",
        "Taking CRIM, ZN, INDUS, CHAS, DIS, RAD, LSTAT, RM as our predictors."
      ]
    },
    {
      "cell_type": "code",
      "metadata": {
        "id": "VMnSPPA0PnE1",
        "colab_type": "code",
        "colab": {}
      },
      "source": [
        "# Concatenating the predictors in one dataframe.\n",
        "X = pd.DataFrame(boston_dataset.data, columns=boston_dataset.feature_names)\n",
        "X = X.drop(['NOX', 'PTRATIO', 'TAX', 'AGE', 'B'], axis = 1)\n",
        "Y = boston['MEDV']\n",
        "\n",
        "\n",
        "from sklearn.model_selection import train_test_split\n",
        "\n",
        "X_train, X_test, Y_train, Y_test = train_test_split(X, Y, test_size = 0.2, random_state=5)\n",
        "# Splitting the dataset, 80% of data goes into training set and 20% into test test. Set the seed to 5 for reproducibility."
      ],
      "execution_count": 0,
      "outputs": []
    },
    {
      "cell_type": "markdown",
      "metadata": {
        "id": "ZpB9YHJjPsCg",
        "colab_type": "text"
      },
      "source": [
        "**Creating prediction model** "
      ]
    },
    {
      "cell_type": "code",
      "metadata": {
        "id": "ZTCvdst5PyyF",
        "colab_type": "code",
        "outputId": "6372c800-a4ae-402f-f237-e33817d4fc8d",
        "colab": {
          "base_uri": "https://localhost:8080/",
          "height": 627
        }
      },
      "source": [
        "import statsmodels.api as sm\n",
        "X_train = sm.add_constant(X_train)\n",
        "model1 = sm.OLS(Y_train, X_train).fit()\n",
        "\n",
        "# Print out the statistics\n",
        "print(model1.summary())"
      ],
      "execution_count": 0,
      "outputs": [
        {
          "output_type": "stream",
          "text": [
            "/usr/local/lib/python3.6/dist-packages/numpy/core/fromnumeric.py:2389: FutureWarning: Method .ptp is deprecated and will be removed in a future version. Use numpy.ptp instead.\n",
            "  return ptp(axis=axis, out=out, **kwargs)\n"
          ],
          "name": "stderr"
        },
        {
          "output_type": "stream",
          "text": [
            "                            OLS Regression Results                            \n",
            "==============================================================================\n",
            "Dep. Variable:                   MEDV   R-squared:                       0.690\n",
            "Model:                            OLS   Adj. R-squared:                  0.684\n",
            "Method:                 Least Squares   F-statistic:                     110.1\n",
            "Date:                Thu, 10 Oct 2019   Prob (F-statistic):           1.18e-95\n",
            "Time:                        08:53:24   Log-Likelihood:                -1236.0\n",
            "No. Observations:                 404   AIC:                             2490.\n",
            "Df Residuals:                     395   BIC:                             2526.\n",
            "Df Model:                           8                                         \n",
            "Covariance Type:            nonrobust                                         \n",
            "==============================================================================\n",
            "                 coef    std err          t      P>|t|      [0.025      0.975]\n",
            "------------------------------------------------------------------------------\n",
            "const         14.7647      3.848      3.836      0.000       7.199      22.331\n",
            "CRIM          -0.1289      0.039     -3.292      0.001      -0.206      -0.052\n",
            "ZN             0.0717      0.015      4.649      0.000       0.041       0.102\n",
            "INDUS         -0.2278      0.066     -3.461      0.001      -0.357      -0.098\n",
            "CHAS           3.6664      1.046      3.507      0.001       1.611       5.722\n",
            "RM             3.7581      0.486      7.733      0.000       2.803       4.714\n",
            "DIS           -1.4641      0.214     -6.843      0.000      -1.885      -1.043\n",
            "RAD           -0.0009      0.045     -0.021      0.983      -0.089       0.087\n",
            "LSTAT         -0.6658      0.056    -11.824      0.000      -0.776      -0.555\n",
            "==============================================================================\n",
            "Omnibus:                      115.771   Durbin-Watson:                   2.024\n",
            "Prob(Omnibus):                  0.000   Jarque-Bera (JB):              384.290\n",
            "Skew:                           1.282   Prob(JB):                     3.57e-84\n",
            "Kurtosis:                       7.032   Cond. No.                         415.\n",
            "==============================================================================\n",
            "\n",
            "Warnings:\n",
            "[1] Standard Errors assume that the covariance matrix of the errors is correctly specified.\n"
          ],
          "name": "stdout"
        }
      ]
    },
    {
      "cell_type": "markdown",
      "metadata": {
        "id": "csUfPg5AP4IB",
        "colab_type": "text"
      },
      "source": [
        "**Predict the y values of training and test set**"
      ]
    },
    {
      "cell_type": "code",
      "metadata": {
        "id": "2mM3v6OhQAkN",
        "colab_type": "code",
        "outputId": "231779af-7a75-4022-d4f0-6d2a71b5af21",
        "colab": {
          "base_uri": "https://localhost:8080/",
          "height": 141
        }
      },
      "source": [
        "from sklearn.metrics import mean_squared_error, r2_score\n",
        "X_test = sm.add_constant(X_test)\n",
        "Y_train_pred = model1.predict(X_train)\n",
        "Y_test_pred = model1.predict(X_test)\n",
        "\n",
        "# Evaluating Root Mean Square Error\n",
        "rmse_train = np.sqrt(mean_squared_error(Y_train, Y_train_pred))\n",
        "print('The RMSE is: {}'.format(rmse_train))\n",
        "\n",
        "rmse = np.sqrt(mean_squared_error(Y_test, Y_test_pred))\n",
        "print('The RMSE is: {}'.format(rmse))\n",
        "\n",
        "# Evaluating R squared\n",
        "r2_train = r2_score(Y_train, Y_train_pred)\n",
        "print('The r square is:{}'.format(r2_train))\n",
        "\n",
        "r2 = r2_score(Y_test, Y_test_pred)\n",
        "print('The r square is:{}'.format(r2))"
      ],
      "execution_count": 0,
      "outputs": [
        {
          "output_type": "stream",
          "text": [
            "The RMSE is: 5.156983573659251\n",
            "The RMSE is: 4.870572901746912\n",
            "The r square is:0.6904079857277586\n",
            "The r square is:0.6970071758643983\n"
          ],
          "name": "stdout"
        },
        {
          "output_type": "stream",
          "text": [
            "/usr/local/lib/python3.6/dist-packages/numpy/core/fromnumeric.py:2389: FutureWarning: Method .ptp is deprecated and will be removed in a future version. Use numpy.ptp instead.\n",
            "  return ptp(axis=axis, out=out, **kwargs)\n"
          ],
          "name": "stderr"
        }
      ]
    },
    {
      "cell_type": "markdown",
      "metadata": {
        "id": "Ht_ELXV_Qgbf",
        "colab_type": "text"
      },
      "source": [
        "### **Variance Inflation Factors**"
      ]
    },
    {
      "cell_type": "code",
      "metadata": {
        "id": "awJTSqoGQhJj",
        "colab_type": "code",
        "outputId": "0daecb1c-ee41-402b-fd85-420b28b62ad3",
        "colab": {
          "base_uri": "https://localhost:8080/",
          "height": 156
        }
      },
      "source": [
        "from statsmodels.stats.outliers_influence import variance_inflation_factor as vif\n",
        "\n",
        "for i in range(len(X.columns)):\n",
        "  v = vif(np.matrix(X), i)\n",
        "  print('Variation Inflation Factor for {}: {}'.format(X.columns[i], round(v, 2)) )"
      ],
      "execution_count": 0,
      "outputs": [
        {
          "output_type": "stream",
          "text": [
            "Variation Inflation Factor for CRIM: 2.07\n",
            "Variation Inflation Factor for ZN: 2.3\n",
            "Variation Inflation Factor for INDUS: 9.01\n",
            "Variation Inflation Factor for CHAS: 1.11\n",
            "Variation Inflation Factor for RM: 15.36\n",
            "Variation Inflation Factor for DIS: 9.39\n",
            "Variation Inflation Factor for RAD: 4.78\n",
            "Variation Inflation Factor for LSTAT: 6.77\n"
          ],
          "name": "stdout"
        }
      ]
    },
    {
      "cell_type": "markdown",
      "metadata": {
        "id": "BA2srakz27Yj",
        "colab_type": "text"
      },
      "source": [
        "### Homework Assignment\n",
        "\n",
        "Create 2 models using the Diabetes dataset from Scikit Learn Package.\n",
        "- 1st model must contain all the predictors\n",
        "- 2nd model can contain fewer predictors by analyzining concepts like VIF, Correlation Matrix.\n",
        "\n",
        "**Points to focus**\n",
        "\n",
        "Data Should be splitted into test and train set in both the models.\n",
        "Correlation heatmap must be shown.\n",
        "R-squared, RMSE, intercept and coefficients must be explicitly presented."
      ]
    },
    {
      "cell_type": "code",
      "metadata": {
        "id": "w_w0cTtQ26at",
        "colab_type": "code",
        "colab": {}
      },
      "source": [
        "from sklearn import datasets, linear_model\n",
        "from sklearn.metrics import mean_squared_error, r2_score\n",
        "\n",
        "# Load the diabetes dataset\n",
        "diabetes = datasets.load_diabetes()\n",
        "print(diabetes.DESCR)"
      ],
      "execution_count": 0,
      "outputs": []
    }
  ]
}