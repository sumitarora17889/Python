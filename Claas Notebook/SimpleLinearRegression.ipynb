{
  "nbformat": 4,
  "nbformat_minor": 0,
  "metadata": {
    "colab": {
      "name": "SimpleLinearRegression.ipynb",
      "provenance": [],
      "collapsed_sections": [],
      "toc_visible": true
    },
    "kernelspec": {
      "name": "python3",
      "display_name": "Python 3"
    }
  },
  "cells": [
    {
      "cell_type": "code",
      "metadata": {
        "id": "jnwpUxatjxuq",
        "colab_type": "code",
        "colab": {}
      },
      "source": [
        "import numpy as np\n",
        "from scipy import stats\n",
        "import statsmodels.api as sm\n",
        "from sklearn.linear_model import LinearRegression\n",
        "\n",
        "import matplotlib.pyplot as plt "
      ],
      "execution_count": 0,
      "outputs": []
    },
    {
      "cell_type": "markdown",
      "metadata": {
        "id": "RrQm5Yf591Sk",
        "colab_type": "text"
      },
      "source": [
        "# Generate the data"
      ]
    },
    {
      "cell_type": "code",
      "metadata": {
        "id": "ro1olWXb-yea",
        "colab_type": "code",
        "colab": {}
      },
      "source": [
        "x = np.arange(1,11)\n",
        "noise = np.random.uniform(-1,1,len(x))*0.5\n",
        "y = 3 +  5*x +  noise"
      ],
      "execution_count": 0,
      "outputs": []
    },
    {
      "cell_type": "markdown",
      "metadata": {
        "id": "kxADzH2n-KzG",
        "colab_type": "text"
      },
      "source": [
        "# Performing Linear Regression by using 4 major packages\n",
        "We will perform the linear regression using the following packages:\n",
        "\n",
        "- **Scipy**\n",
        "- **Numpy**\n",
        "- **StatsModels**\n",
        "- **Sci-kit Learn**"
      ]
    },
    {
      "cell_type": "markdown",
      "metadata": {
        "id": "M9PCUlTYzv9B",
        "colab_type": "text"
      },
      "source": [
        "# 1. Scipy"
      ]
    },
    {
      "cell_type": "code",
      "metadata": {
        "id": "wTwHrbc4yluo",
        "colab_type": "code",
        "outputId": "2216a40b-7dd6-45b7-af7e-a9241b1c41e2",
        "colab": {
          "base_uri": "https://localhost:8080/",
          "height": 69
        }
      },
      "source": [
        "slope, intercept, r_value, _,_ = stats.linregress(x,y)\n",
        "  \n",
        "print(\"slope = {0:5.3f}\".format(slope))\n",
        "print(\"intercept = {0:5.3f}\".format(intercept ))\n",
        "print(\"r-squared={0:5.3f}\".format( r_value**2))"
      ],
      "execution_count": 0,
      "outputs": [
        {
          "output_type": "stream",
          "text": [
            "slope = 4.989\n",
            "intercept = 3.038\n",
            "r-squared=1.000\n"
          ],
          "name": "stdout"
        }
      ]
    },
    {
      "cell_type": "markdown",
      "metadata": {
        "id": "g5CSwcru26OS",
        "colab_type": "text"
      },
      "source": [
        "# 2. Numpy\n",
        "### We need to add a column of ones"
      ]
    },
    {
      "cell_type": "code",
      "metadata": {
        "id": "00M8rkFLRDUc",
        "colab_type": "code",
        "colab": {}
      },
      "source": [
        ""
      ],
      "execution_count": 0,
      "outputs": []
    },
    {
      "cell_type": "markdown",
      "metadata": {
        "id": "8iUhzm4_RC9N",
        "colab_type": "text"
      },
      "source": [
        ""
      ]
    },
    {
      "cell_type": "code",
      "metadata": {
        "id": "2OBykiNw2RMd",
        "colab_type": "code",
        "outputId": "c5ec39a5-6809-458d-cd33-a237350a18d2",
        "colab": {
          "base_uri": "https://localhost:8080/",
          "height": 34
        }
      },
      "source": [
        "A = np.vstack([x, np.ones(len(x))]).T\n",
        "model = np.linalg.lstsq(A, y,rcond=None)\n",
        "slope ,intercept  = model[0]\n",
        "print(\"slope  = {0:4.3f}, intercept = {1:4.3f}\".format(slope ,intercept ))"
      ],
      "execution_count": 0,
      "outputs": [
        {
          "output_type": "stream",
          "text": [
            "slope  = 4.989, intercept = 3.038\n"
          ],
          "name": "stdout"
        }
      ]
    },
    {
      "cell_type": "code",
      "metadata": {
        "id": "Iq9F3y1fx6b3",
        "colab_type": "code",
        "outputId": "78b111cd-d349-4b0c-fcff-3e22e5f2139e",
        "colab": {
          "base_uri": "https://localhost:8080/",
          "height": 296
        }
      },
      "source": [
        "# Plot\n",
        "plt.scatter(x, y)\n",
        "plt.scatter(x, y+5)\n",
        "plt.title('Scatter plot ')\n",
        "plt.xlabel('x')\n",
        "plt.ylabel('y')\n",
        "y_pred = slope*x + intercept\n",
        " \n",
        "plt.plot(x, y_pred, 'r', label='Fitted line')\n",
        "plt.legend()\n",
        "plt.show()"
      ],
      "execution_count": 0,
      "outputs": [
        {
          "output_type": "display_data",
          "data": {
            "image/png": "[encoded data removed]",
            "text/plain": [
              "<Figure size 432x288 with 1 Axes>"
            ]
          },
          "metadata": {
            "tags": []
          }
        }
      ]
    },
    {
      "cell_type": "markdown",
      "metadata": {
        "id": "QeQuLQkKznuh",
        "colab_type": "text"
      },
      "source": [
        "# 3. Statsmodels\n",
        "### Need to add a column of ones"
      ]
    },
    {
      "cell_type": "code",
      "metadata": {
        "id": "gmlEi7-VzSsa",
        "colab_type": "code",
        "outputId": "539eb309-0ada-4b59-87b9-47d495156f96",
        "colab": {
          "base_uri": "https://localhost:8080/",
          "height": 485
        }
      },
      "source": [
        " \n",
        "X = sm.add_constant(x)\n",
        "# beta = [3,  5]\n",
        "# y = np.dot(X, beta) + noise\n",
        "\n",
        "# Fit regression model\n",
        "model  = sm.OLS(y, X).fit()\n",
        "\n",
        "# Inspect the results\n",
        "print(model.summary())"
      ],
      "execution_count": 0,
      "outputs": [
        {
          "output_type": "stream",
          "text": [
            "                            OLS Regression Results                            \n",
            "==============================================================================\n",
            "Dep. Variable:                      y   R-squared:                       1.000\n",
            "Model:                            OLS   Adj. R-squared:                  1.000\n",
            "Method:                 Least Squares   F-statistic:                 1.805e+04\n",
            "Date:                Wed, 25 Sep 2019   Prob (F-statistic):           1.05e-14\n",
            "Time:                        03:55:14   Log-Likelihood:                -2.2035\n",
            "No. Observations:                  10   AIC:                             8.407\n",
            "Df Residuals:                       8   BIC:                             9.012\n",
            "Df Model:                           1                                         \n",
            "Covariance Type:            nonrobust                                         \n",
            "==============================================================================\n",
            "                 coef    std err          t      P>|t|      [0.025      0.975]\n",
            "------------------------------------------------------------------------------\n",
            "const          3.0379      0.230     13.187      0.000       2.507       3.569\n",
            "x1             4.9885      0.037    134.364      0.000       4.903       5.074\n",
            "==============================================================================\n",
            "Omnibus:                        2.522   Durbin-Watson:                   2.542\n",
            "Prob(Omnibus):                  0.283   Jarque-Bera (JB):                1.048\n",
            "Skew:                          -0.351   Prob(JB):                        0.592\n",
            "Kurtosis:                       1.578   Cond. No.                         13.7\n",
            "==============================================================================\n",
            "\n",
            "Warnings:\n",
            "[1] Standard Errors assume that the covariance matrix of the errors is correctly specified.\n"
          ],
          "name": "stdout"
        },
        {
          "output_type": "stream",
          "text": [
            "/usr/local/lib/python3.6/dist-packages/scipy/stats/stats.py:1450: UserWarning: kurtosistest only valid for n>=20 ... continuing anyway, n=10\n",
            "  \"anyway, n=%i\" % int(n))\n"
          ],
          "name": "stderr"
        }
      ]
    },
    {
      "cell_type": "markdown",
      "metadata": {
        "id": "jtt_s-XV9xZL",
        "colab_type": "text"
      },
      "source": [
        "# 4. Scikit-learn"
      ]
    },
    {
      "cell_type": "code",
      "metadata": {
        "id": "ztcsRFqX9vOk",
        "colab_type": "code",
        "outputId": "cbc993a9-d6ad-48a5-ffea-ebdf1f1a836a",
        "colab": {
          "base_uri": "https://localhost:8080/",
          "height": 208
        }
      },
      "source": [
        "X = np.array([[1, 1], [1, 2], [2, 2], [2, 3]])\n",
        "print(\"These are the input points:\")\n",
        "print(*X)\n",
        "\n",
        "coefs= np.array([1 ,2])\n",
        "intercept = 3 \n",
        "# y = 1 * x_0 + 2 * x_1 + 3 \n",
        "y = np.dot(X,  coefs) + intercept\n",
        "print(\"This is the vector y\")\n",
        "print(*y)\n",
        "reg = LinearRegression().fit(X, y)\n",
        "print(\"Coefficients are: {0:4.1f},{1:4.1f} and the intercept = {2:4.1f}\".format(reg.coef_[0],reg.coef_[1] ,reg.intercept_ ))\n",
        "print(*coefs, sep = \", \")\n",
        "rsqr = reg.score(X, y)\n",
        "print(\"R-sqr is  {0:4.2f}\".format(rsqr)) \n",
        "\n",
        "print(\"New input data for prediction:\")\n",
        "pt = [[3,5],[7,9]]\n",
        "print(*pt)\n",
        "preds = reg.predict(np.array(pt))\n",
        "print(\"prediction for the new input data\" ) \n",
        "print(*preds)"
      ],
      "execution_count": 0,
      "outputs": [
        {
          "output_type": "stream",
          "text": [
            "These are the input points:\n",
            "[1 1] [1 2] [2 2] [2 3]\n",
            "This is the vector y\n",
            "6 8 9 11\n",
            "Coefficients are:  1.0, 2.0 and the intercept =  3.0\n",
            "1, 2\n",
            "R-sqr is  1.00\n",
            "New input data for prediction:\n",
            "[3, 5] [7, 9]\n",
            "prediction for the new input data\n",
            "15.999999999999998 27.999999999999993\n"
          ],
          "name": "stdout"
        }
      ]
    }
  ]
}