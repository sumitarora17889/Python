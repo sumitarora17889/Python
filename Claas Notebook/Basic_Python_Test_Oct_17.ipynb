{
  "nbformat": 4,
  "nbformat_minor": 0,
  "metadata": {
    "colab": {
      "name": "Basic Python Test - Oct 17 ",
      "provenance": []
    },
    "kernelspec": {
      "name": "python3",
      "display_name": "Python 3"
    }
  },
  "cells": [
    {
      "cell_type": "markdown",
      "metadata": {
        "id": "m-uC3_JGqQmp",
        "colab_type": "text"
      },
      "source": [
        "# Basic Python Test"
      ]
    },
    {
      "cell_type": "code",
      "metadata": {
        "id": "N_9naOYsqD2-",
        "colab_type": "code",
        "colab": {}
      },
      "source": [
        "import pandas as pd\n",
        "import numpy as np\n",
        "import copy"
      ],
      "execution_count": 0,
      "outputs": []
    },
    {
      "cell_type": "markdown",
      "metadata": {
        "id": "r4Mq1z8EqbcN",
        "colab_type": "text"
      },
      "source": [
        "## Question 1"
      ]
    },
    {
      "cell_type": "code",
      "metadata": {
        "id": "E2T7KqMJqadh",
        "colab_type": "code",
        "outputId": "cea2216c-a53b-4002-9ef1-bbb7081895a2",
        "colab": {
          "base_uri": "https://localhost:8080/",
          "height": 51
        }
      },
      "source": [
        "a = [1, 2, 3]\n",
        "a[0] = a\n",
        "print(a)\n",
        "print(*a)"
      ],
      "execution_count": 0,
      "outputs": [
        {
          "output_type": "stream",
          "text": [
            "[[...], 2, 3]\n",
            "[[...], 2, 3] 2 3\n"
          ],
          "name": "stdout"
        }
      ]
    },
    {
      "cell_type": "markdown",
      "metadata": {
        "id": "ROYoYYRAqjen",
        "colab_type": "text"
      },
      "source": [
        "## Question 2"
      ]
    },
    {
      "cell_type": "code",
      "metadata": {
        "id": "0aJJeszzqklw",
        "colab_type": "code",
        "outputId": "6e978812-3cb5-452a-89fc-54021f072114",
        "colab": {
          "base_uri": "https://localhost:8080/",
          "height": 51
        }
      },
      "source": [
        "x = np.ones(6)\n",
        "print(x.shape)\n",
        "print(x.T.shape)"
      ],
      "execution_count": 0,
      "outputs": [
        {
          "output_type": "stream",
          "text": [
            "(6,)\n",
            "(6,)\n"
          ],
          "name": "stdout"
        }
      ]
    },
    {
      "cell_type": "markdown",
      "metadata": {
        "id": "hPcHwrBnqk7N",
        "colab_type": "text"
      },
      "source": [
        "## Question 3"
      ]
    },
    {
      "cell_type": "code",
      "metadata": {
        "id": "fSq_KKcpqlGQ",
        "colab_type": "code",
        "outputId": "d4bfd633-9df2-4a1d-e3f3-027e37961b39",
        "colab": {
          "base_uri": "https://localhost:8080/",
          "height": 51
        }
      },
      "source": [
        "y = np.ones([4,2])\n",
        "print(y.shape)\n",
        "print(y.T.shape)"
      ],
      "execution_count": 0,
      "outputs": [
        {
          "output_type": "stream",
          "text": [
            "(4, 2)\n",
            "(2, 4)\n"
          ],
          "name": "stdout"
        }
      ]
    },
    {
      "cell_type": "markdown",
      "metadata": {
        "id": "pMS_xGbYqlQ7",
        "colab_type": "text"
      },
      "source": [
        "## Question 4"
      ]
    },
    {
      "cell_type": "code",
      "metadata": {
        "id": "uposbgBiqlbb",
        "colab_type": "code",
        "outputId": "d7da8a6b-dbe9-489d-cfc0-3fa61a914fb8",
        "colab": {
          "base_uri": "https://localhost:8080/",
          "height": 51
        }
      },
      "source": [
        "x = np.ones(6)\n",
        "z = pd.DataFrame(x)\n",
        "print(z.shape)\n",
        "print(z.T.shape)"
      ],
      "execution_count": 0,
      "outputs": [
        {
          "output_type": "stream",
          "text": [
            "(6, 1)\n",
            "(1, 6)\n"
          ],
          "name": "stdout"
        }
      ]
    },
    {
      "cell_type": "markdown",
      "metadata": {
        "id": "ASMl0pvNqllg",
        "colab_type": "text"
      },
      "source": [
        "## Question 5"
      ]
    },
    {
      "cell_type": "code",
      "metadata": {
        "id": "aEoFUceIqlwg",
        "colab_type": "code",
        "outputId": "93071273-db63-41a9-ded4-a257b64fa189",
        "colab": {
          "base_uri": "https://localhost:8080/",
          "height": 34
        }
      },
      "source": [
        "Str1 = 'Taj Mahal is beautiful'\n",
        "print (len(Str1.center(23)))"
      ],
      "execution_count": 0,
      "outputs": [
        {
          "output_type": "stream",
          "text": [
            "23\n"
          ],
          "name": "stdout"
        }
      ]
    },
    {
      "cell_type": "markdown",
      "metadata": {
        "id": "5mzVlftUql6F",
        "colab_type": "text"
      },
      "source": [
        "## Question 6"
      ]
    },
    {
      "cell_type": "code",
      "metadata": {
        "id": "hzZDLekRqmEv",
        "colab_type": "code",
        "outputId": "36325781-5f3b-413d-c151-dc02ddfc137c",
        "colab": {
          "base_uri": "https://localhost:8080/",
          "height": 51
        }
      },
      "source": [
        "print(np.arange(3,7,2))\n",
        "print(np.linspace(3,7,2))"
      ],
      "execution_count": 0,
      "outputs": [
        {
          "output_type": "stream",
          "text": [
            "[3 5]\n",
            "[3. 7.]\n"
          ],
          "name": "stdout"
        }
      ]
    },
    {
      "cell_type": "markdown",
      "metadata": {
        "id": "QtC8qhigrQ-S",
        "colab_type": "text"
      },
      "source": [
        "# Array for Questions 6 to 10"
      ]
    },
    {
      "cell_type": "code",
      "metadata": {
        "id": "UUfWeIaSrPyI",
        "colab_type": "code",
        "colab": {}
      },
      "source": [
        "master_arr = [1, 2, 3]\n",
        "arr1 = master_arr\n",
        "arr2 = master_arr.copy()\n",
        "arr3 = master_arr[:]\n",
        "arr4 = copy.deepcopy(master_arr)"
      ],
      "execution_count": 0,
      "outputs": []
    },
    {
      "cell_type": "markdown",
      "metadata": {
        "id": "7RgfqsKdqxRq",
        "colab_type": "text"
      },
      "source": [
        "## Question 7"
      ]
    },
    {
      "cell_type": "code",
      "metadata": {
        "id": "X2Ttpen2qxsr",
        "colab_type": "code",
        "outputId": "59a688ca-62fd-407e-8c97-bead2c3fff8d",
        "colab": {
          "base_uri": "https://localhost:8080/",
          "height": 51
        }
      },
      "source": [
        "arr1.append('a')\n",
        "print('Master List:', master_arr )\n",
        "print('Array 1:', arr1)"
      ],
      "execution_count": 0,
      "outputs": [
        {
          "output_type": "stream",
          "text": [
            "Master List: [1, 2, 3, 'a']\n",
            "Array 1: [1, 2, 3, 'a']\n"
          ],
          "name": "stdout"
        }
      ]
    },
    {
      "cell_type": "markdown",
      "metadata": {
        "id": "mLwkptlnqyK2",
        "colab_type": "text"
      },
      "source": [
        "## Question 8"
      ]
    },
    {
      "cell_type": "code",
      "metadata": {
        "id": "Bcqychliqyb8",
        "colab_type": "code",
        "outputId": "ce755251-9556-4c8d-8b4c-9c37ff9b0882",
        "colab": {
          "base_uri": "https://localhost:8080/",
          "height": 51
        }
      },
      "source": [
        "arr2.append('dog')\n",
        "print('Master List:', master_arr )\n",
        "print('Array 2:', arr2)"
      ],
      "execution_count": 0,
      "outputs": [
        {
          "output_type": "stream",
          "text": [
            "Master List: [1, 2, 3, 'a']\n",
            "Array 2: [1, 2, 3, 'dog']\n"
          ],
          "name": "stdout"
        }
      ]
    },
    {
      "cell_type": "markdown",
      "metadata": {
        "id": "iAQ8Qi9BqynQ",
        "colab_type": "text"
      },
      "source": [
        "## Question 9"
      ]
    },
    {
      "cell_type": "code",
      "metadata": {
        "id": "YcDQRWkgqyxq",
        "colab_type": "code",
        "outputId": "9831a159-3a15-4a84-d422-4312b317f73b",
        "colab": {
          "base_uri": "https://localhost:8080/",
          "height": 51
        }
      },
      "source": [
        "arr3.append('dog')\n",
        "print('Master List: ', master_arr)\n",
        "print('Array 3: ', arr3)"
      ],
      "execution_count": 0,
      "outputs": [
        {
          "output_type": "stream",
          "text": [
            "Master List:  [1, 2, 3, 'a']\n",
            "Array 3:  [1, 2, 3, 'dog']\n"
          ],
          "name": "stdout"
        }
      ]
    },
    {
      "cell_type": "markdown",
      "metadata": {
        "id": "JlUFr9ngqzAh",
        "colab_type": "text"
      },
      "source": [
        "## Question 10"
      ]
    },
    {
      "cell_type": "code",
      "metadata": {
        "id": "tRF54NCcqhQh",
        "colab_type": "code",
        "outputId": "61b94c09-bb51-4e85-a2ce-bd1aa76b9f87",
        "colab": {
          "base_uri": "https://localhost:8080/",
          "height": 51
        }
      },
      "source": [
        "arr4[1] = 'BB'\n",
        "print('Master List: ', master_arr)\n",
        "print('Array 4: ', arr4)"
      ],
      "execution_count": 0,
      "outputs": [
        {
          "output_type": "stream",
          "text": [
            "Master List:  [1, 2, 3, 'a']\n",
            "Array 4:  [1, 'BB', 3]\n"
          ],
          "name": "stdout"
        }
      ]
    }
  ]
}